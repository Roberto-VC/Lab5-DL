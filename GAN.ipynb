{
  "cells": [
    {
      "cell_type": "markdown",
      "metadata": {
        "id": "EG-ey6uYtb1B"
      },
      "source": [
        "# Redes Generativas Adversariales de Convolución Profunda (DCGANs - Deep Convolutional Generative Adversarial Networks)\n",
        "\n",
        "Básicamente son iguales a las GAN.  Sin embargo, se ha visto que para imágenes es mejor trabajar con Redes Convolucionales.  Por esto tiene sentido adaptar las unidades de las GAN (Generador y Discriminador) para que trabajen con Redes Convolucionales.\n",
        "\n",
        "OJO!!!  Aún con este ejercicio simple, puede que una PC ya no rinda bien por lo que sería mejor usar algo como Google Colab.  El código en este NB tiene habilitado el código para trabajar con Google Colab.  Se ha incluido, como comentarios, el código para trabajar con las PCs, si se quiere hacer así, se debe poner en comentarios las instrucciones específicas para Google Colab y quitar el \"hash tag\" de las instrucciones normales."
      ]
    },
    {
      "cell_type": "code",
      "execution_count": null,
      "metadata": {
        "id": "CfV2DXvitb1D"
      },
      "outputs": [],
      "source": [
        "import pandas as pd\n",
        "import numpy as np\n",
        "import matplotlib.pyplot as plt"
      ]
    },
    {
      "cell_type": "code",
      "execution_count": null,
      "metadata": {
        "id": "-LxFjfcmtb1D"
      },
      "outputs": [],
      "source": [
        "from tensorflow.keras.datasets import mnist"
      ]
    },
    {
      "cell_type": "code",
      "execution_count": null,
      "metadata": {
        "colab": {
          "base_uri": "https://localhost:8080/"
        },
        "id": "2TtWWYIbtb1E",
        "outputId": "96b0eb6b-3684-436b-e192-4c3f9927ed87"
      },
      "outputs": [
        {
          "output_type": "stream",
          "name": "stdout",
          "text": [
            "Downloading data from https://storage.googleapis.com/tensorflow/tf-keras-datasets/mnist.npz\n",
            "11490434/11490434 [==============================] - 0s 0us/step\n"
          ]
        }
      ],
      "source": [
        "(X_entreno, y_entreno), (X_prueba, y_prueba) = mnist.load_data()"
      ]
    },
    {
      "cell_type": "code",
      "execution_count": null,
      "metadata": {
        "colab": {
          "base_uri": "https://localhost:8080/",
          "height": 447
        },
        "id": "CSmVrMpJtb1E",
        "outputId": "18ee61a0-87b3-4e72-bb03-d9e8c5c3da04"
      },
      "outputs": [
        {
          "output_type": "execute_result",
          "data": {
            "text/plain": [
              "<matplotlib.image.AxesImage at 0x796a94b10430>"
            ]
          },
          "metadata": {},
          "execution_count": 4
        },
        {
          "output_type": "display_data",
          "data": {
            "text/plain": [
              "<Figure size 640x480 with 1 Axes>"
            ],
            "image/png": "[encoded data removed]"
          },
          "metadata": {}
        }
      ],
      "source": [
        "plt.imshow(X_entreno[0])"
      ]
    },
    {
      "cell_type": "code",
      "execution_count": null,
      "metadata": {
        "colab": {
          "base_uri": "https://localhost:8080/"
        },
        "id": "pPOThyaFtb1F",
        "outputId": "2be3ef50-d2de-4ee6-9ad8-c1dc6bfa5900"
      },
      "outputs": [
        {
          "output_type": "execute_result",
          "data": {
            "text/plain": [
              "array([5, 0, 4, ..., 5, 6, 8], dtype=uint8)"
            ]
          },
          "metadata": {},
          "execution_count": 5
        }
      ],
      "source": [
        "y_entreno"
      ]
    },
    {
      "cell_type": "markdown",
      "metadata": {
        "id": "1W2q_lLAtb1G"
      },
      "source": [
        "## Cambiar la forma y la escala (normailizar) de las imágenes para DCGAN (Deep Convolutional GAN)\n",
        "\n",
        "El Generador utilizará la función de activación tanh() para la última capa.  Por este motivo debe cambiarse X_entreno para que los valores estén en el rango de -1 a 1."
      ]
    },
    {
      "cell_type": "code",
      "execution_count": null,
      "metadata": {
        "id": "iEtVmk2Atb1G"
      },
      "outputs": [],
      "source": [
        "X_entreno = X_entreno/255"
      ]
    },
    {
      "cell_type": "code",
      "execution_count": null,
      "metadata": {
        "colab": {
          "base_uri": "https://localhost:8080/"
        },
        "id": "JwKzqHpNMQr-",
        "outputId": "957c2d33-f180-444f-e49e-087b28846ba1"
      },
      "outputs": [
        {
          "output_type": "execute_result",
          "data": {
            "text/plain": [
              "(60000, 28, 28)"
            ]
          },
          "metadata": {},
          "execution_count": 7
        }
      ],
      "source": [
        "X_entreno.shape"
      ]
    },
    {
      "cell_type": "code",
      "execution_count": null,
      "metadata": {
        "id": "Q2Sj4bt0tb1G"
      },
      "outputs": [],
      "source": [
        "X_entreno = X_entreno.reshape(-1, 28, 28, 1) * 2. - 1."
      ]
    },
    {
      "cell_type": "code",
      "execution_count": null,
      "metadata": {
        "colab": {
          "base_uri": "https://localhost:8080/"
        },
        "id": "rtW0sq5gMQr_",
        "outputId": "0ade5182-d5b6-4fc6-c84a-f4b55396c6e3"
      },
      "outputs": [
        {
          "output_type": "execute_result",
          "data": {
            "text/plain": [
              "(60000, 28, 28, 1)"
            ]
          },
          "metadata": {},
          "execution_count": 9
        }
      ],
      "source": [
        "X_entreno.shape"
      ]
    },
    {
      "cell_type": "code",
      "execution_count": null,
      "metadata": {
        "colab": {
          "base_uri": "https://localhost:8080/"
        },
        "id": "9vg6JBbHtb1H",
        "outputId": "8d07cb36-c0ec-4884-9bad-d398aa978748"
      },
      "outputs": [
        {
          "output_type": "execute_result",
          "data": {
            "text/plain": [
              "-1.0"
            ]
          },
          "metadata": {},
          "execution_count": 10
        }
      ],
      "source": [
        "X_entreno.min()"
      ]
    },
    {
      "cell_type": "code",
      "execution_count": null,
      "metadata": {
        "colab": {
          "base_uri": "https://localhost:8080/"
        },
        "id": "bHt9nTCftb1H",
        "outputId": "2e6b5f58-8b9b-40a0-dddf-4462a0663e0c"
      },
      "outputs": [
        {
          "output_type": "execute_result",
          "data": {
            "text/plain": [
              "1.0"
            ]
          },
          "metadata": {},
          "execution_count": 11
        }
      ],
      "source": [
        "X_entreno.max()"
      ]
    },
    {
      "cell_type": "markdown",
      "metadata": {
        "id": "W2nmUSACtb1I"
      },
      "source": [
        "## Para que el tiempo de entrenamiento sea menor, vamos a filtrar los datos parar solo tener de un mismo dígito"
      ]
    },
    {
      "cell_type": "code",
      "execution_count": null,
      "metadata": {
        "id": "YQZyUxFGtb1I"
      },
      "outputs": [],
      "source": [
        "n = 0\n",
        "X_filtrado = X_entreno"
      ]
    },
    {
      "cell_type": "code",
      "execution_count": null,
      "metadata": {
        "colab": {
          "base_uri": "https://localhost:8080/"
        },
        "id": "4Njho3zTtb1J",
        "outputId": "ce018e82-8a3c-4e9f-993f-6e3806ffdf1e"
      },
      "outputs": [
        {
          "output_type": "execute_result",
          "data": {
            "text/plain": [
              "(60000, 28, 28, 1)"
            ]
          },
          "metadata": {},
          "execution_count": 13
        }
      ],
      "source": [
        "X_filtrado.shape"
      ]
    },
    {
      "cell_type": "code",
      "execution_count": null,
      "metadata": {
        "colab": {
          "base_uri": "https://localhost:8080/",
          "height": 447
        },
        "id": "T4Gz7VkZtb1J",
        "outputId": "7570bcff-c876-46e4-9ae9-78c1bc4c0a0d"
      },
      "outputs": [
        {
          "output_type": "execute_result",
          "data": {
            "text/plain": [
              "<matplotlib.image.AxesImage at 0x796a8f3090f0>"
            ]
          },
          "metadata": {},
          "execution_count": 14
        },
        {
          "output_type": "display_data",
          "data": {
            "text/plain": [
              "<Figure size 640x480 with 1 Axes>"
            ],
            "image/png": "[encoded data removed]"
          },
          "metadata": {}
        }
      ],
      "source": [
        "#En Jupyter NB funciona esto para ver una imagen\n",
        "n = 0\n",
        "plt.imshow(X_filtrado[n])"
      ]
    },
    {
      "cell_type": "code",
      "execution_count": null,
      "metadata": {
        "id": "xbqTMOaBuGk3"
      },
      "outputs": [],
      "source": [
        "# Para que funcione en Google Colab\n",
        "#n = 0\n",
        "#plt.imshow(X_filtrado.reshape(5923, 28, 28)[n])"
      ]
    },
    {
      "cell_type": "code",
      "execution_count": null,
      "metadata": {
        "id": "3nYf9dbEtb1K"
      },
      "outputs": [],
      "source": [
        "import tensorflow as tf\n",
        "from tensorflow.keras.layers import Dense, Reshape, Dropout, LeakyReLU, Flatten, BatchNormalization, Conv2D, Conv2DTranspose\n",
        "from tensorflow.keras.models import Sequential"
      ]
    },
    {
      "cell_type": "markdown",
      "metadata": {
        "id": "JTa7jJ7VMQsB"
      },
      "source": [
        "## Creación del GAN\n",
        "\n",
        "### Empezar con el generador\n",
        "\n",
        "El generador es una especie de \"decodificador\", haciendo referencia al AutoCodificador que ya vimos. Lo primero que hay que hacer es determinar un tamaño de codificación, o dimensión, que recibirá y que luego ampliará al tamaño de las imágenes en cuestión. Este número lo seleccionamos nosotros. Debe ser sustancialmente menor a las imágenes, pero no tan pequeño que se pueda perder alguna información importante.\n",
        "\n",
        "Nótese que una ventaja de usar Convolución es que permite aprovechar la naturaleza 2D de las imágenes."
      ]
    },
    {
      "cell_type": "code",
      "execution_count": null,
      "metadata": {
        "id": "wsYAgWIxtb1K"
      },
      "outputs": [],
      "source": [
        "np.random.seed(42)\n",
        "tf.random.set_seed(42)\n",
        "\n",
        "# Tamaño de la capa que va hacia el\n",
        "#    Generador\n",
        "tamanio_codificacion = 100"
      ]
    },
    {
      "cell_type": "code",
      "execution_count": null,
      "metadata": {
        "id": "Chu1GEdntb1K"
      },
      "outputs": [],
      "source": [
        "generador = Sequential()\n",
        "generador.add(Dense(7 * 7 * 128,\n",
        "                    input_shape = [tamanio_codificacion]))\n",
        "generador.add(Reshape([7, 7, 128]))\n",
        "generador.add(BatchNormalization())\n",
        "generador.add(Conv2DTranspose(64,\n",
        "                              kernel_size = 5,\n",
        "                              strides = 2,\n",
        "                              padding = \"same\",\n",
        "                              activation = \"relu\"))\n",
        "generador.add(BatchNormalization())\n",
        "generador.add(Conv2DTranspose(1,\n",
        "                              kernel_size = 5,\n",
        "                              strides = 2,\n",
        "                              padding = \"same\",\n",
        "                              activation = \"tanh\"))\n",
        "\n"
      ]
    },
    {
      "cell_type": "markdown",
      "metadata": {
        "id": "T0RFMFIcMQsD"
      },
      "source": [
        "### Ahora a definir el discriminador"
      ]
    },
    {
      "cell_type": "code",
      "execution_count": null,
      "metadata": {
        "id": "NqJva6vbtb1L"
      },
      "outputs": [],
      "source": [
        "discriminador = Sequential()\n",
        "discriminador.add(Conv2D(64,\n",
        "                         kernel_size = 5,\n",
        "                         strides = 2,\n",
        "                         padding = \"same\",\n",
        "                         activation = LeakyReLU(0.3),\n",
        "                         input_shape = [28, 28, 1]))\n",
        "discriminador.add(Dropout(0.5))\n",
        "discriminador.add(Conv2D(128,\n",
        "                         kernel_size = 5,\n",
        "                         strides = 2,\n",
        "                         padding = \"same\",\n",
        "                         activation = LeakyReLU(0.3)))\n",
        "discriminador.add(Dropout(0.5))\n",
        "discriminador.add(Flatten())\n",
        "discriminador.add(Dense(1,\n",
        "                        activation = \"sigmoid\"))"
      ]
    },
    {
      "cell_type": "code",
      "execution_count": null,
      "metadata": {
        "id": "TudtO95ltb1L",
        "tags": []
      },
      "outputs": [],
      "source": [
        "GAN = Sequential([generador, discriminador])"
      ]
    },
    {
      "cell_type": "code",
      "execution_count": null,
      "metadata": {
        "id": "TNsH9voytb1M"
      },
      "outputs": [],
      "source": [
        "discriminador.compile(loss=\"binary_crossentropy\", optimizer=\"adam\")\n",
        "discriminador.trainable = False"
      ]
    },
    {
      "cell_type": "markdown",
      "metadata": {
        "id": "e1L0hKahMQsF"
      },
      "source": [
        "Nótese que el discriminador se compila, pero el generador no. En vez, se crea el GAN y se compila la red completa para que el generador se entrene únicamente a través del GAN completo.\n",
        "\n",
        "También, como se mencionó en la intuición, el discriminador no será entrenado durante la segunda fase\n",
        "\n",
        "Finalmente, la red GAN también tiene solo como salida un resultado binario\n",
        "\n",
        "Las siguientes líneas obedecen a estas observaciones"
      ]
    },
    {
      "cell_type": "code",
      "execution_count": null,
      "metadata": {
        "id": "SmxhzY3Ktb1M"
      },
      "outputs": [],
      "source": [
        "GAN.compile(loss = \"binary_crossentropy\",\n",
        "            optimizer = \"adam\")"
      ]
    },
    {
      "cell_type": "markdown",
      "metadata": {
        "id": "oebx0GS-MQsG"
      },
      "source": [
        "Ver un resúmen de lo hecho"
      ]
    },
    {
      "cell_type": "code",
      "execution_count": null,
      "metadata": {
        "colab": {
          "base_uri": "https://localhost:8080/"
        },
        "id": "B4Pw1Z3ptb1N",
        "outputId": "c74cdb14-e8e3-46f5-99b7-199c8eba45ac"
      },
      "outputs": [
        {
          "output_type": "execute_result",
          "data": {
            "text/plain": [
              "[<keras.src.engine.sequential.Sequential at 0x796a8f380c40>,\n",
              " <keras.src.engine.sequential.Sequential at 0x796a8f382710>]"
            ]
          },
          "metadata": {},
          "execution_count": 23
        }
      ],
      "source": [
        "GAN.layers"
      ]
    },
    {
      "cell_type": "code",
      "execution_count": null,
      "metadata": {
        "colab": {
          "base_uri": "https://localhost:8080/"
        },
        "id": "FzrvqjfZtb1N",
        "outputId": "fada812c-6fa7-467e-9f90-87d72a8a2420"
      },
      "outputs": [
        {
          "output_type": "stream",
          "name": "stdout",
          "text": [
            "Model: \"sequential_2\"\n",
            "_________________________________________________________________\n",
            " Layer (type)                Output Shape              Param #   \n",
            "=================================================================\n",
            " sequential (Sequential)     (None, 28, 28, 1)         840705    \n",
            "                                                                 \n",
            " sequential_1 (Sequential)   (None, 1)                 212865    \n",
            "                                                                 \n",
            "=================================================================\n",
            "Total params: 1053570 (4.02 MB)\n",
            "Trainable params: 840321 (3.21 MB)\n",
            "Non-trainable params: 213249 (833.00 KB)\n",
            "_________________________________________________________________\n"
          ]
        }
      ],
      "source": [
        "GAN.summary()"
      ]
    },
    {
      "cell_type": "code",
      "execution_count": null,
      "metadata": {
        "colab": {
          "base_uri": "https://localhost:8080/"
        },
        "id": "aqqb1uaStb1N",
        "outputId": "332305f4-3d84-48f5-95f3-ab89785b47db"
      },
      "outputs": [
        {
          "output_type": "stream",
          "name": "stdout",
          "text": [
            "Model: \"sequential\"\n",
            "_________________________________________________________________\n",
            " Layer (type)                Output Shape              Param #   \n",
            "=================================================================\n",
            " dense (Dense)               (None, 6272)              633472    \n",
            "                                                                 \n",
            " reshape (Reshape)           (None, 7, 7, 128)         0         \n",
            "                                                                 \n",
            " batch_normalization (Batch  (None, 7, 7, 128)         512       \n",
            " Normalization)                                                  \n",
            "                                                                 \n",
            " conv2d_transpose (Conv2DTr  (None, 14, 14, 64)        204864    \n",
            " anspose)                                                        \n",
            "                                                                 \n",
            " batch_normalization_1 (Bat  (None, 14, 14, 64)        256       \n",
            " chNormalization)                                                \n",
            "                                                                 \n",
            " conv2d_transpose_1 (Conv2D  (None, 28, 28, 1)         1601      \n",
            " Transpose)                                                      \n",
            "                                                                 \n",
            "=================================================================\n",
            "Total params: 840705 (3.21 MB)\n",
            "Trainable params: 840321 (3.21 MB)\n",
            "Non-trainable params: 384 (1.50 KB)\n",
            "_________________________________________________________________\n"
          ]
        }
      ],
      "source": [
        "GAN.layers[0].summary()"
      ]
    },
    {
      "cell_type": "code",
      "execution_count": null,
      "metadata": {
        "colab": {
          "base_uri": "https://localhost:8080/"
        },
        "id": "zKwtPB2ktb1O",
        "outputId": "b27ba15a-d016-4660-f593-2ee5efa650fc"
      },
      "outputs": [
        {
          "output_type": "stream",
          "name": "stdout",
          "text": [
            "Model: \"sequential_1\"\n",
            "_________________________________________________________________\n",
            " Layer (type)                Output Shape              Param #   \n",
            "=================================================================\n",
            " conv2d (Conv2D)             (None, 14, 14, 64)        1664      \n",
            "                                                                 \n",
            " dropout (Dropout)           (None, 14, 14, 64)        0         \n",
            "                                                                 \n",
            " conv2d_1 (Conv2D)           (None, 7, 7, 128)         204928    \n",
            "                                                                 \n",
            " dropout_1 (Dropout)         (None, 7, 7, 128)         0         \n",
            "                                                                 \n",
            " flatten (Flatten)           (None, 6272)              0         \n",
            "                                                                 \n",
            " dense_1 (Dense)             (None, 1)                 6273      \n",
            "                                                                 \n",
            "=================================================================\n",
            "Total params: 212865 (831.50 KB)\n",
            "Trainable params: 0 (0.00 Byte)\n",
            "Non-trainable params: 212865 (831.50 KB)\n",
            "_________________________________________________________________\n"
          ]
        }
      ],
      "source": [
        "GAN.layers[1].summary()"
      ]
    },
    {
      "cell_type": "markdown",
      "metadata": {
        "id": "awxNCnZztb1O",
        "tags": []
      },
      "source": [
        "### Configurar las tandas para entrenamiento"
      ]
    },
    {
      "cell_type": "code",
      "execution_count": null,
      "metadata": {
        "id": "IAV9mWXjtb1O"
      },
      "outputs": [],
      "source": [
        "import tensorflow as tf"
      ]
    },
    {
      "cell_type": "code",
      "execution_count": null,
      "metadata": {
        "id": "vr6zGKvmtb1O"
      },
      "outputs": [],
      "source": [
        "# Si se desea que el entrenamiento sea más\n",
        "#   rápido, se puede tomar un valor mayor\n",
        "tamanio_tanda = 32"
      ]
    },
    {
      "cell_type": "markdown",
      "metadata": {
        "id": "eWK_6wpltb1P"
      },
      "source": [
        "https://stackoverflow.com/questions/46444018/meaning-of-buffer-size-in-dataset-map-dataset-prefetch-and-dataset-shuffle\n",
        "\n",
        "El tamaño del \"buffer\" en el Conjunto_Datos.shuffle() puede afectar la aleatoridad de conjunto de datos, y por lo tanto el orden en los cuales aparecen los elementos."
      ]
    },
    {
      "cell_type": "code",
      "execution_count": null,
      "metadata": {
        "id": "KfEwYU1btb1P"
      },
      "outputs": [],
      "source": [
        "# mis_datos = X_entreno\n",
        "mis_datos = X_filtrado"
      ]
    },
    {
      "cell_type": "code",
      "execution_count": null,
      "metadata": {
        "id": "fjY8_-yAtb1P"
      },
      "outputs": [],
      "source": [
        "datos = tf.data.Dataset.from_tensor_slices(mis_datos).shuffle(buffer_size = 1000)"
      ]
    },
    {
      "cell_type": "code",
      "execution_count": null,
      "metadata": {
        "colab": {
          "base_uri": "https://localhost:8080/"
        },
        "id": "48IpG1mYtb1Q",
        "outputId": "8409592c-0e08-4e72-90f2-2a9bdee6c986"
      },
      "outputs": [
        {
          "output_type": "execute_result",
          "data": {
            "text/plain": [
              "tensorflow.python.data.ops.shuffle_op._ShuffleDataset"
            ]
          },
          "metadata": {},
          "execution_count": 31
        }
      ],
      "source": [
        "type(datos)"
      ]
    },
    {
      "cell_type": "code",
      "execution_count": null,
      "metadata": {
        "id": "SqOVG8Botb1R"
      },
      "outputs": [],
      "source": [
        "datos = datos.batch(tamanio_tanda,\n",
        "                    drop_remainder = True).prefetch(1)"
      ]
    },
    {
      "cell_type": "code",
      "execution_count": null,
      "metadata": {
        "id": "jMEVgX_Ytb1S"
      },
      "outputs": [],
      "source": [
        "# Hay muchas mas capas y es mejor dar más\n",
        "#   tiempo para entrenar...por eso puede\n",
        "#   ser necesario trabajar con GPUs\n",
        "epocas = 20"
      ]
    },
    {
      "cell_type": "markdown",
      "metadata": {
        "id": "WW0QDIixtb1S"
      },
      "source": [
        "**NOTA: el generador nunca vé imágenes verdaderas.  Aprende viendo las gradientes que fluyen hacia atrás en el discriminador.  Entre mejor se va poniendo el discriminador a través del entrenamiento, más información está contenida en sus gradientes. Esto hace que el generador vaya progresando en su aprendizaje sobre cómo generar imágenes falsas, en este caso, ceros falsificados.**\n",
        "\n",
        "\n",
        "## Iteración de Entrenamiento\n",
        "\n",
        "Normalmente se usa el .fit() para entrenar.  Sin embargo como acá se tienen dos redes en competencia (adversariales), se creará una iteración de entrenamiento"
      ]
    },
    {
      "cell_type": "code",
      "execution_count": null,
      "metadata": {
        "id": "lOJxb4Tgtb1T"
      },
      "outputs": [],
      "source": [
        "# Tomar los componentes por separado\n",
        "generador, discriminador = GAN.layers"
      ]
    },
    {
      "cell_type": "code",
      "execution_count": null,
      "metadata": {
        "colab": {
          "base_uri": "https://localhost:8080/"
        },
        "id": "z95xGRvqtb1T",
        "outputId": "61898212-59b3-4b5e-fb0d-83e87414a4be"
      },
      "outputs": [
        {
          "output_type": "stream",
          "name": "stdout",
          "text": [
            "Voy por la época 1\n",
            "\tVoy por la tanda número 25 de 1875\n",
            "\tVoy por la tanda número 50 de 1875\n",
            "\tVoy por la tanda número 75 de 1875\n",
            "\tVoy por la tanda número 100 de 1875\n",
            "\tVoy por la tanda número 125 de 1875\n",
            "\tVoy por la tanda número 150 de 1875\n",
            "\tVoy por la tanda número 175 de 1875\n",
            "\tVoy por la tanda número 200 de 1875\n",
            "\tVoy por la tanda número 225 de 1875\n",
            "\tVoy por la tanda número 250 de 1875\n",
            "\tVoy por la tanda número 275 de 1875\n",
            "\tVoy por la tanda número 300 de 1875\n",
            "\tVoy por la tanda número 325 de 1875\n",
            "\tVoy por la tanda número 350 de 1875\n",
            "\tVoy por la tanda número 375 de 1875\n",
            "\tVoy por la tanda número 400 de 1875\n",
            "\tVoy por la tanda número 425 de 1875\n",
            "\tVoy por la tanda número 450 de 1875\n",
            "\tVoy por la tanda número 475 de 1875\n",
            "\tVoy por la tanda número 500 de 1875\n",
            "\tVoy por la tanda número 525 de 1875\n",
            "\tVoy por la tanda número 550 de 1875\n",
            "\tVoy por la tanda número 575 de 1875\n",
            "\tVoy por la tanda número 600 de 1875\n",
            "\tVoy por la tanda número 625 de 1875\n",
            "\tVoy por la tanda número 650 de 1875\n",
            "\tVoy por la tanda número 675 de 1875\n",
            "\tVoy por la tanda número 700 de 1875\n",
            "\tVoy por la tanda número 725 de 1875\n",
            "\tVoy por la tanda número 750 de 1875\n",
            "\tVoy por la tanda número 775 de 1875\n",
            "\tVoy por la tanda número 800 de 1875\n",
            "\tVoy por la tanda número 825 de 1875\n",
            "\tVoy por la tanda número 850 de 1875\n",
            "\tVoy por la tanda número 875 de 1875\n",
            "\tVoy por la tanda número 900 de 1875\n",
            "\tVoy por la tanda número 925 de 1875\n",
            "\tVoy por la tanda número 950 de 1875\n",
            "\tVoy por la tanda número 975 de 1875\n",
            "\tVoy por la tanda número 1000 de 1875\n",
            "\tVoy por la tanda número 1025 de 1875\n",
            "\tVoy por la tanda número 1050 de 1875\n",
            "\tVoy por la tanda número 1075 de 1875\n",
            "\tVoy por la tanda número 1100 de 1875\n",
            "\tVoy por la tanda número 1125 de 1875\n",
            "\tVoy por la tanda número 1150 de 1875\n",
            "\tVoy por la tanda número 1175 de 1875\n",
            "\tVoy por la tanda número 1200 de 1875\n",
            "\tVoy por la tanda número 1225 de 1875\n",
            "\tVoy por la tanda número 1250 de 1875\n",
            "\tVoy por la tanda número 1275 de 1875\n",
            "\tVoy por la tanda número 1300 de 1875\n",
            "\tVoy por la tanda número 1325 de 1875\n",
            "\tVoy por la tanda número 1350 de 1875\n",
            "\tVoy por la tanda número 1375 de 1875\n",
            "\tVoy por la tanda número 1400 de 1875\n",
            "\tVoy por la tanda número 1425 de 1875\n",
            "\tVoy por la tanda número 1450 de 1875\n",
            "\tVoy por la tanda número 1475 de 1875\n",
            "\tVoy por la tanda número 1500 de 1875\n",
            "\tVoy por la tanda número 1525 de 1875\n",
            "\tVoy por la tanda número 1550 de 1875\n",
            "\tVoy por la tanda número 1575 de 1875\n",
            "\tVoy por la tanda número 1600 de 1875\n",
            "\tVoy por la tanda número 1625 de 1875\n",
            "\tVoy por la tanda número 1650 de 1875\n",
            "\tVoy por la tanda número 1675 de 1875\n",
            "\tVoy por la tanda número 1700 de 1875\n",
            "\tVoy por la tanda número 1725 de 1875\n",
            "\tVoy por la tanda número 1750 de 1875\n",
            "\tVoy por la tanda número 1775 de 1875\n",
            "\tVoy por la tanda número 1800 de 1875\n",
            "\tVoy por la tanda número 1825 de 1875\n",
            "\tVoy por la tanda número 1850 de 1875\n",
            "\tVoy por la tanda número 1875 de 1875\n",
            "Voy por la época 2\n",
            "\tVoy por la tanda número 25 de 1875\n",
            "\tVoy por la tanda número 50 de 1875\n",
            "\tVoy por la tanda número 75 de 1875\n",
            "\tVoy por la tanda número 100 de 1875\n",
            "\tVoy por la tanda número 125 de 1875\n",
            "\tVoy por la tanda número 150 de 1875\n",
            "\tVoy por la tanda número 175 de 1875\n",
            "\tVoy por la tanda número 200 de 1875\n",
            "\tVoy por la tanda número 225 de 1875\n",
            "\tVoy por la tanda número 250 de 1875\n",
            "\tVoy por la tanda número 275 de 1875\n",
            "\tVoy por la tanda número 300 de 1875\n",
            "\tVoy por la tanda número 325 de 1875\n",
            "\tVoy por la tanda número 350 de 1875\n",
            "\tVoy por la tanda número 375 de 1875\n",
            "\tVoy por la tanda número 400 de 1875\n",
            "\tVoy por la tanda número 425 de 1875\n",
            "\tVoy por la tanda número 450 de 1875\n",
            "\tVoy por la tanda número 475 de 1875\n",
            "\tVoy por la tanda número 500 de 1875\n",
            "\tVoy por la tanda número 525 de 1875\n",
            "\tVoy por la tanda número 550 de 1875\n",
            "\tVoy por la tanda número 575 de 1875\n",
            "\tVoy por la tanda número 600 de 1875\n",
            "\tVoy por la tanda número 625 de 1875\n",
            "\tVoy por la tanda número 650 de 1875\n",
            "\tVoy por la tanda número 675 de 1875\n",
            "\tVoy por la tanda número 700 de 1875\n",
            "\tVoy por la tanda número 725 de 1875\n",
            "\tVoy por la tanda número 750 de 1875\n",
            "\tVoy por la tanda número 775 de 1875\n",
            "\tVoy por la tanda número 800 de 1875\n",
            "\tVoy por la tanda número 825 de 1875\n",
            "\tVoy por la tanda número 850 de 1875\n",
            "\tVoy por la tanda número 875 de 1875\n",
            "\tVoy por la tanda número 900 de 1875\n",
            "\tVoy por la tanda número 925 de 1875\n",
            "\tVoy por la tanda número 950 de 1875\n",
            "\tVoy por la tanda número 975 de 1875\n",
            "\tVoy por la tanda número 1000 de 1875\n",
            "\tVoy por la tanda número 1025 de 1875\n",
            "\tVoy por la tanda número 1050 de 1875\n",
            "\tVoy por la tanda número 1075 de 1875\n",
            "\tVoy por la tanda número 1100 de 1875\n",
            "\tVoy por la tanda número 1125 de 1875\n",
            "\tVoy por la tanda número 1150 de 1875\n",
            "\tVoy por la tanda número 1175 de 1875\n",
            "\tVoy por la tanda número 1200 de 1875\n",
            "\tVoy por la tanda número 1225 de 1875\n",
            "\tVoy por la tanda número 1250 de 1875\n",
            "\tVoy por la tanda número 1275 de 1875\n",
            "\tVoy por la tanda número 1300 de 1875\n",
            "\tVoy por la tanda número 1325 de 1875\n",
            "\tVoy por la tanda número 1350 de 1875\n",
            "\tVoy por la tanda número 1375 de 1875\n",
            "\tVoy por la tanda número 1400 de 1875\n",
            "\tVoy por la tanda número 1425 de 1875\n",
            "\tVoy por la tanda número 1450 de 1875\n",
            "\tVoy por la tanda número 1475 de 1875\n",
            "\tVoy por la tanda número 1500 de 1875\n",
            "\tVoy por la tanda número 1525 de 1875\n",
            "\tVoy por la tanda número 1550 de 1875\n",
            "\tVoy por la tanda número 1575 de 1875\n",
            "\tVoy por la tanda número 1600 de 1875\n",
            "\tVoy por la tanda número 1625 de 1875\n",
            "\tVoy por la tanda número 1650 de 1875\n",
            "\tVoy por la tanda número 1675 de 1875\n",
            "\tVoy por la tanda número 1700 de 1875\n",
            "\tVoy por la tanda número 1725 de 1875\n",
            "\tVoy por la tanda número 1750 de 1875\n",
            "\tVoy por la tanda número 1775 de 1875\n",
            "\tVoy por la tanda número 1800 de 1875\n",
            "\tVoy por la tanda número 1825 de 1875\n",
            "\tVoy por la tanda número 1850 de 1875\n",
            "\tVoy por la tanda número 1875 de 1875\n",
            "Voy por la época 3\n",
            "\tVoy por la tanda número 25 de 1875\n",
            "\tVoy por la tanda número 50 de 1875\n",
            "\tVoy por la tanda número 75 de 1875\n",
            "\tVoy por la tanda número 100 de 1875\n",
            "\tVoy por la tanda número 125 de 1875\n",
            "\tVoy por la tanda número 150 de 1875\n",
            "\tVoy por la tanda número 175 de 1875\n",
            "\tVoy por la tanda número 200 de 1875\n",
            "\tVoy por la tanda número 225 de 1875\n",
            "\tVoy por la tanda número 250 de 1875\n",
            "\tVoy por la tanda número 275 de 1875\n",
            "\tVoy por la tanda número 300 de 1875\n",
            "\tVoy por la tanda número 325 de 1875\n",
            "\tVoy por la tanda número 350 de 1875\n",
            "\tVoy por la tanda número 375 de 1875\n",
            "\tVoy por la tanda número 400 de 1875\n",
            "\tVoy por la tanda número 425 de 1875\n",
            "\tVoy por la tanda número 450 de 1875\n",
            "\tVoy por la tanda número 475 de 1875\n",
            "\tVoy por la tanda número 500 de 1875\n",
            "\tVoy por la tanda número 525 de 1875\n",
            "\tVoy por la tanda número 550 de 1875\n",
            "\tVoy por la tanda número 575 de 1875\n",
            "\tVoy por la tanda número 600 de 1875\n",
            "\tVoy por la tanda número 625 de 1875\n",
            "\tVoy por la tanda número 650 de 1875\n",
            "\tVoy por la tanda número 675 de 1875\n",
            "\tVoy por la tanda número 700 de 1875\n",
            "\tVoy por la tanda número 725 de 1875\n",
            "\tVoy por la tanda número 750 de 1875\n",
            "\tVoy por la tanda número 775 de 1875\n",
            "\tVoy por la tanda número 800 de 1875\n",
            "\tVoy por la tanda número 825 de 1875\n",
            "\tVoy por la tanda número 850 de 1875\n",
            "\tVoy por la tanda número 875 de 1875\n",
            "\tVoy por la tanda número 900 de 1875\n",
            "\tVoy por la tanda número 925 de 1875\n",
            "\tVoy por la tanda número 950 de 1875\n",
            "\tVoy por la tanda número 975 de 1875\n",
            "\tVoy por la tanda número 1000 de 1875\n",
            "\tVoy por la tanda número 1025 de 1875\n",
            "\tVoy por la tanda número 1050 de 1875\n",
            "\tVoy por la tanda número 1075 de 1875\n",
            "\tVoy por la tanda número 1100 de 1875\n",
            "\tVoy por la tanda número 1125 de 1875\n",
            "\tVoy por la tanda número 1150 de 1875\n",
            "\tVoy por la tanda número 1175 de 1875\n",
            "\tVoy por la tanda número 1200 de 1875\n",
            "\tVoy por la tanda número 1225 de 1875\n",
            "\tVoy por la tanda número 1250 de 1875\n",
            "\tVoy por la tanda número 1275 de 1875\n",
            "\tVoy por la tanda número 1300 de 1875\n",
            "\tVoy por la tanda número 1325 de 1875\n",
            "\tVoy por la tanda número 1350 de 1875\n",
            "\tVoy por la tanda número 1375 de 1875\n",
            "\tVoy por la tanda número 1400 de 1875\n",
            "\tVoy por la tanda número 1425 de 1875\n",
            "\tVoy por la tanda número 1450 de 1875\n",
            "\tVoy por la tanda número 1475 de 1875\n",
            "\tVoy por la tanda número 1500 de 1875\n",
            "\tVoy por la tanda número 1525 de 1875\n",
            "\tVoy por la tanda número 1550 de 1875\n",
            "\tVoy por la tanda número 1575 de 1875\n",
            "\tVoy por la tanda número 1600 de 1875\n",
            "\tVoy por la tanda número 1625 de 1875\n",
            "\tVoy por la tanda número 1650 de 1875\n",
            "\tVoy por la tanda número 1675 de 1875\n",
            "\tVoy por la tanda número 1700 de 1875\n",
            "\tVoy por la tanda número 1725 de 1875\n",
            "\tVoy por la tanda número 1750 de 1875\n",
            "\tVoy por la tanda número 1775 de 1875\n",
            "\tVoy por la tanda número 1800 de 1875\n",
            "\tVoy por la tanda número 1825 de 1875\n",
            "\tVoy por la tanda número 1850 de 1875\n",
            "\tVoy por la tanda número 1875 de 1875\n",
            "Voy por la época 4\n",
            "\tVoy por la tanda número 25 de 1875\n",
            "\tVoy por la tanda número 50 de 1875\n",
            "\tVoy por la tanda número 75 de 1875\n",
            "\tVoy por la tanda número 100 de 1875\n",
            "\tVoy por la tanda número 125 de 1875\n",
            "\tVoy por la tanda número 150 de 1875\n",
            "\tVoy por la tanda número 175 de 1875\n",
            "\tVoy por la tanda número 200 de 1875\n",
            "\tVoy por la tanda número 225 de 1875\n",
            "\tVoy por la tanda número 250 de 1875\n",
            "\tVoy por la tanda número 275 de 1875\n",
            "\tVoy por la tanda número 300 de 1875\n",
            "\tVoy por la tanda número 325 de 1875\n",
            "\tVoy por la tanda número 350 de 1875\n",
            "\tVoy por la tanda número 375 de 1875\n",
            "\tVoy por la tanda número 400 de 1875\n",
            "\tVoy por la tanda número 425 de 1875\n",
            "\tVoy por la tanda número 450 de 1875\n",
            "\tVoy por la tanda número 475 de 1875\n",
            "\tVoy por la tanda número 500 de 1875\n",
            "\tVoy por la tanda número 525 de 1875\n",
            "\tVoy por la tanda número 550 de 1875\n",
            "\tVoy por la tanda número 575 de 1875\n",
            "\tVoy por la tanda número 600 de 1875\n",
            "\tVoy por la tanda número 625 de 1875\n",
            "\tVoy por la tanda número 650 de 1875\n",
            "\tVoy por la tanda número 675 de 1875\n",
            "\tVoy por la tanda número 700 de 1875\n",
            "\tVoy por la tanda número 725 de 1875\n",
            "\tVoy por la tanda número 750 de 1875\n",
            "\tVoy por la tanda número 775 de 1875\n",
            "\tVoy por la tanda número 800 de 1875\n",
            "\tVoy por la tanda número 825 de 1875\n",
            "\tVoy por la tanda número 850 de 1875\n",
            "\tVoy por la tanda número 875 de 1875\n",
            "\tVoy por la tanda número 900 de 1875\n",
            "\tVoy por la tanda número 925 de 1875\n",
            "\tVoy por la tanda número 950 de 1875\n",
            "\tVoy por la tanda número 975 de 1875\n",
            "\tVoy por la tanda número 1000 de 1875\n",
            "\tVoy por la tanda número 1025 de 1875\n",
            "\tVoy por la tanda número 1050 de 1875\n",
            "\tVoy por la tanda número 1075 de 1875\n",
            "\tVoy por la tanda número 1100 de 1875\n",
            "\tVoy por la tanda número 1125 de 1875\n",
            "\tVoy por la tanda número 1150 de 1875\n",
            "\tVoy por la tanda número 1175 de 1875\n",
            "\tVoy por la tanda número 1200 de 1875\n",
            "\tVoy por la tanda número 1225 de 1875\n",
            "\tVoy por la tanda número 1250 de 1875\n",
            "\tVoy por la tanda número 1275 de 1875\n",
            "\tVoy por la tanda número 1300 de 1875\n",
            "\tVoy por la tanda número 1325 de 1875\n",
            "\tVoy por la tanda número 1350 de 1875\n",
            "\tVoy por la tanda número 1375 de 1875\n",
            "\tVoy por la tanda número 1400 de 1875\n",
            "\tVoy por la tanda número 1425 de 1875\n",
            "\tVoy por la tanda número 1450 de 1875\n",
            "\tVoy por la tanda número 1475 de 1875\n",
            "\tVoy por la tanda número 1500 de 1875\n",
            "\tVoy por la tanda número 1525 de 1875\n",
            "\tVoy por la tanda número 1550 de 1875\n",
            "\tVoy por la tanda número 1575 de 1875\n",
            "\tVoy por la tanda número 1600 de 1875\n",
            "\tVoy por la tanda número 1625 de 1875\n",
            "\tVoy por la tanda número 1650 de 1875\n",
            "\tVoy por la tanda número 1675 de 1875\n",
            "\tVoy por la tanda número 1700 de 1875\n",
            "\tVoy por la tanda número 1725 de 1875\n",
            "\tVoy por la tanda número 1750 de 1875\n",
            "\tVoy por la tanda número 1775 de 1875\n",
            "\tVoy por la tanda número 1800 de 1875\n",
            "\tVoy por la tanda número 1825 de 1875\n",
            "\tVoy por la tanda número 1850 de 1875\n",
            "\tVoy por la tanda número 1875 de 1875\n",
            "Voy por la época 5\n",
            "\tVoy por la tanda número 25 de 1875\n",
            "\tVoy por la tanda número 50 de 1875\n",
            "\tVoy por la tanda número 75 de 1875\n",
            "\tVoy por la tanda número 100 de 1875\n",
            "\tVoy por la tanda número 125 de 1875\n",
            "\tVoy por la tanda número 150 de 1875\n",
            "\tVoy por la tanda número 175 de 1875\n",
            "\tVoy por la tanda número 200 de 1875\n",
            "\tVoy por la tanda número 225 de 1875\n",
            "\tVoy por la tanda número 250 de 1875\n",
            "\tVoy por la tanda número 275 de 1875\n",
            "\tVoy por la tanda número 300 de 1875\n",
            "\tVoy por la tanda número 325 de 1875\n",
            "\tVoy por la tanda número 350 de 1875\n",
            "\tVoy por la tanda número 375 de 1875\n",
            "\tVoy por la tanda número 400 de 1875\n",
            "\tVoy por la tanda número 425 de 1875\n",
            "\tVoy por la tanda número 450 de 1875\n",
            "\tVoy por la tanda número 475 de 1875\n",
            "\tVoy por la tanda número 500 de 1875\n",
            "\tVoy por la tanda número 525 de 1875\n",
            "\tVoy por la tanda número 550 de 1875\n",
            "\tVoy por la tanda número 575 de 1875\n",
            "\tVoy por la tanda número 600 de 1875\n",
            "\tVoy por la tanda número 625 de 1875\n",
            "\tVoy por la tanda número 650 de 1875\n",
            "\tVoy por la tanda número 675 de 1875\n",
            "\tVoy por la tanda número 700 de 1875\n",
            "\tVoy por la tanda número 725 de 1875\n",
            "\tVoy por la tanda número 750 de 1875\n",
            "\tVoy por la tanda número 775 de 1875\n",
            "\tVoy por la tanda número 800 de 1875\n",
            "\tVoy por la tanda número 825 de 1875\n",
            "\tVoy por la tanda número 850 de 1875\n",
            "\tVoy por la tanda número 875 de 1875\n",
            "\tVoy por la tanda número 900 de 1875\n",
            "\tVoy por la tanda número 925 de 1875\n",
            "\tVoy por la tanda número 950 de 1875\n",
            "\tVoy por la tanda número 975 de 1875\n",
            "\tVoy por la tanda número 1000 de 1875\n",
            "\tVoy por la tanda número 1025 de 1875\n",
            "\tVoy por la tanda número 1050 de 1875\n",
            "\tVoy por la tanda número 1075 de 1875\n",
            "\tVoy por la tanda número 1100 de 1875\n",
            "\tVoy por la tanda número 1125 de 1875\n",
            "\tVoy por la tanda número 1150 de 1875\n",
            "\tVoy por la tanda número 1175 de 1875\n",
            "\tVoy por la tanda número 1200 de 1875\n",
            "\tVoy por la tanda número 1225 de 1875\n",
            "\tVoy por la tanda número 1250 de 1875\n",
            "\tVoy por la tanda número 1275 de 1875\n",
            "\tVoy por la tanda número 1300 de 1875\n",
            "\tVoy por la tanda número 1325 de 1875\n",
            "\tVoy por la tanda número 1350 de 1875\n",
            "\tVoy por la tanda número 1375 de 1875\n",
            "\tVoy por la tanda número 1400 de 1875\n",
            "\tVoy por la tanda número 1425 de 1875\n",
            "\tVoy por la tanda número 1450 de 1875\n",
            "\tVoy por la tanda número 1475 de 1875\n",
            "\tVoy por la tanda número 1500 de 1875\n",
            "\tVoy por la tanda número 1525 de 1875\n",
            "\tVoy por la tanda número 1550 de 1875\n",
            "\tVoy por la tanda número 1575 de 1875\n",
            "\tVoy por la tanda número 1600 de 1875\n",
            "\tVoy por la tanda número 1625 de 1875\n",
            "\tVoy por la tanda número 1650 de 1875\n",
            "\tVoy por la tanda número 1675 de 1875\n",
            "\tVoy por la tanda número 1700 de 1875\n",
            "\tVoy por la tanda número 1725 de 1875\n",
            "\tVoy por la tanda número 1750 de 1875\n",
            "\tVoy por la tanda número 1775 de 1875\n",
            "\tVoy por la tanda número 1800 de 1875\n",
            "\tVoy por la tanda número 1825 de 1875\n",
            "\tVoy por la tanda número 1850 de 1875\n",
            "\tVoy por la tanda número 1875 de 1875\n",
            "Voy por la época 6\n",
            "\tVoy por la tanda número 25 de 1875\n",
            "\tVoy por la tanda número 50 de 1875\n",
            "\tVoy por la tanda número 75 de 1875\n",
            "\tVoy por la tanda número 100 de 1875\n",
            "\tVoy por la tanda número 125 de 1875\n",
            "\tVoy por la tanda número 150 de 1875\n",
            "\tVoy por la tanda número 175 de 1875\n",
            "\tVoy por la tanda número 200 de 1875\n",
            "\tVoy por la tanda número 225 de 1875\n",
            "\tVoy por la tanda número 250 de 1875\n",
            "\tVoy por la tanda número 275 de 1875\n",
            "\tVoy por la tanda número 300 de 1875\n",
            "\tVoy por la tanda número 325 de 1875\n",
            "\tVoy por la tanda número 350 de 1875\n",
            "\tVoy por la tanda número 375 de 1875\n",
            "\tVoy por la tanda número 400 de 1875\n",
            "\tVoy por la tanda número 425 de 1875\n",
            "\tVoy por la tanda número 450 de 1875\n",
            "\tVoy por la tanda número 475 de 1875\n",
            "\tVoy por la tanda número 500 de 1875\n",
            "\tVoy por la tanda número 525 de 1875\n",
            "\tVoy por la tanda número 550 de 1875\n",
            "\tVoy por la tanda número 575 de 1875\n",
            "\tVoy por la tanda número 600 de 1875\n",
            "\tVoy por la tanda número 625 de 1875\n",
            "\tVoy por la tanda número 650 de 1875\n",
            "\tVoy por la tanda número 675 de 1875\n",
            "\tVoy por la tanda número 700 de 1875\n",
            "\tVoy por la tanda número 725 de 1875\n",
            "\tVoy por la tanda número 750 de 1875\n",
            "\tVoy por la tanda número 775 de 1875\n",
            "\tVoy por la tanda número 800 de 1875\n",
            "\tVoy por la tanda número 825 de 1875\n",
            "\tVoy por la tanda número 850 de 1875\n",
            "\tVoy por la tanda número 875 de 1875\n",
            "\tVoy por la tanda número 900 de 1875\n",
            "\tVoy por la tanda número 925 de 1875\n",
            "\tVoy por la tanda número 950 de 1875\n",
            "\tVoy por la tanda número 975 de 1875\n",
            "\tVoy por la tanda número 1000 de 1875\n",
            "\tVoy por la tanda número 1025 de 1875\n",
            "\tVoy por la tanda número 1050 de 1875\n",
            "\tVoy por la tanda número 1075 de 1875\n",
            "\tVoy por la tanda número 1100 de 1875\n",
            "\tVoy por la tanda número 1125 de 1875\n",
            "\tVoy por la tanda número 1150 de 1875\n",
            "\tVoy por la tanda número 1175 de 1875\n",
            "\tVoy por la tanda número 1200 de 1875\n",
            "\tVoy por la tanda número 1225 de 1875\n",
            "\tVoy por la tanda número 1250 de 1875\n",
            "\tVoy por la tanda número 1275 de 1875\n",
            "\tVoy por la tanda número 1300 de 1875\n",
            "\tVoy por la tanda número 1325 de 1875\n",
            "\tVoy por la tanda número 1350 de 1875\n",
            "\tVoy por la tanda número 1375 de 1875\n",
            "\tVoy por la tanda número 1400 de 1875\n",
            "\tVoy por la tanda número 1425 de 1875\n",
            "\tVoy por la tanda número 1450 de 1875\n",
            "\tVoy por la tanda número 1475 de 1875\n",
            "\tVoy por la tanda número 1500 de 1875\n",
            "\tVoy por la tanda número 1525 de 1875\n",
            "\tVoy por la tanda número 1550 de 1875\n",
            "\tVoy por la tanda número 1575 de 1875\n",
            "\tVoy por la tanda número 1600 de 1875\n",
            "\tVoy por la tanda número 1625 de 1875\n",
            "\tVoy por la tanda número 1650 de 1875\n",
            "\tVoy por la tanda número 1675 de 1875\n",
            "\tVoy por la tanda número 1700 de 1875\n",
            "\tVoy por la tanda número 1725 de 1875\n",
            "\tVoy por la tanda número 1750 de 1875\n",
            "\tVoy por la tanda número 1775 de 1875\n",
            "\tVoy por la tanda número 1800 de 1875\n",
            "\tVoy por la tanda número 1825 de 1875\n",
            "\tVoy por la tanda número 1850 de 1875\n",
            "\tVoy por la tanda número 1875 de 1875\n",
            "Voy por la época 7\n",
            "\tVoy por la tanda número 25 de 1875\n",
            "\tVoy por la tanda número 50 de 1875\n",
            "\tVoy por la tanda número 75 de 1875\n",
            "\tVoy por la tanda número 100 de 1875\n",
            "\tVoy por la tanda número 125 de 1875\n",
            "\tVoy por la tanda número 150 de 1875\n",
            "\tVoy por la tanda número 175 de 1875\n",
            "\tVoy por la tanda número 200 de 1875\n",
            "\tVoy por la tanda número 225 de 1875\n",
            "\tVoy por la tanda número 250 de 1875\n",
            "\tVoy por la tanda número 275 de 1875\n",
            "\tVoy por la tanda número 300 de 1875\n",
            "\tVoy por la tanda número 325 de 1875\n",
            "\tVoy por la tanda número 350 de 1875\n",
            "\tVoy por la tanda número 375 de 1875\n",
            "\tVoy por la tanda número 400 de 1875\n",
            "\tVoy por la tanda número 425 de 1875\n",
            "\tVoy por la tanda número 450 de 1875\n",
            "\tVoy por la tanda número 475 de 1875\n",
            "\tVoy por la tanda número 500 de 1875\n",
            "\tVoy por la tanda número 525 de 1875\n",
            "\tVoy por la tanda número 550 de 1875\n",
            "\tVoy por la tanda número 575 de 1875\n",
            "\tVoy por la tanda número 600 de 1875\n",
            "\tVoy por la tanda número 625 de 1875\n",
            "\tVoy por la tanda número 650 de 1875\n",
            "\tVoy por la tanda número 675 de 1875\n",
            "\tVoy por la tanda número 700 de 1875\n",
            "\tVoy por la tanda número 725 de 1875\n",
            "\tVoy por la tanda número 750 de 1875\n",
            "\tVoy por la tanda número 775 de 1875\n",
            "\tVoy por la tanda número 800 de 1875\n",
            "\tVoy por la tanda número 825 de 1875\n",
            "\tVoy por la tanda número 850 de 1875\n",
            "\tVoy por la tanda número 875 de 1875\n",
            "\tVoy por la tanda número 900 de 1875\n",
            "\tVoy por la tanda número 925 de 1875\n",
            "\tVoy por la tanda número 950 de 1875\n",
            "\tVoy por la tanda número 975 de 1875\n",
            "\tVoy por la tanda número 1000 de 1875\n",
            "\tVoy por la tanda número 1025 de 1875\n",
            "\tVoy por la tanda número 1050 de 1875\n",
            "\tVoy por la tanda número 1075 de 1875\n",
            "\tVoy por la tanda número 1100 de 1875\n",
            "\tVoy por la tanda número 1125 de 1875\n",
            "\tVoy por la tanda número 1150 de 1875\n",
            "\tVoy por la tanda número 1175 de 1875\n",
            "\tVoy por la tanda número 1200 de 1875\n",
            "\tVoy por la tanda número 1225 de 1875\n",
            "\tVoy por la tanda número 1250 de 1875\n",
            "\tVoy por la tanda número 1275 de 1875\n",
            "\tVoy por la tanda número 1300 de 1875\n",
            "\tVoy por la tanda número 1325 de 1875\n",
            "\tVoy por la tanda número 1350 de 1875\n",
            "\tVoy por la tanda número 1375 de 1875\n",
            "\tVoy por la tanda número 1400 de 1875\n",
            "\tVoy por la tanda número 1425 de 1875\n",
            "\tVoy por la tanda número 1450 de 1875\n",
            "\tVoy por la tanda número 1475 de 1875\n",
            "\tVoy por la tanda número 1500 de 1875\n",
            "\tVoy por la tanda número 1525 de 1875\n",
            "\tVoy por la tanda número 1550 de 1875\n",
            "\tVoy por la tanda número 1575 de 1875\n",
            "\tVoy por la tanda número 1600 de 1875\n",
            "\tVoy por la tanda número 1625 de 1875\n",
            "\tVoy por la tanda número 1650 de 1875\n",
            "\tVoy por la tanda número 1675 de 1875\n",
            "\tVoy por la tanda número 1700 de 1875\n",
            "\tVoy por la tanda número 1725 de 1875\n",
            "\tVoy por la tanda número 1750 de 1875\n",
            "\tVoy por la tanda número 1775 de 1875\n",
            "\tVoy por la tanda número 1800 de 1875\n",
            "\tVoy por la tanda número 1825 de 1875\n",
            "\tVoy por la tanda número 1850 de 1875\n",
            "\tVoy por la tanda número 1875 de 1875\n",
            "Voy por la época 8\n",
            "\tVoy por la tanda número 25 de 1875\n",
            "\tVoy por la tanda número 50 de 1875\n",
            "\tVoy por la tanda número 75 de 1875\n",
            "\tVoy por la tanda número 100 de 1875\n",
            "\tVoy por la tanda número 125 de 1875\n",
            "\tVoy por la tanda número 150 de 1875\n",
            "\tVoy por la tanda número 175 de 1875\n",
            "\tVoy por la tanda número 200 de 1875\n",
            "\tVoy por la tanda número 225 de 1875\n",
            "\tVoy por la tanda número 250 de 1875\n",
            "\tVoy por la tanda número 275 de 1875\n",
            "\tVoy por la tanda número 300 de 1875\n",
            "\tVoy por la tanda número 325 de 1875\n",
            "\tVoy por la tanda número 350 de 1875\n",
            "\tVoy por la tanda número 375 de 1875\n",
            "\tVoy por la tanda número 400 de 1875\n",
            "\tVoy por la tanda número 425 de 1875\n",
            "\tVoy por la tanda número 450 de 1875\n",
            "\tVoy por la tanda número 475 de 1875\n",
            "\tVoy por la tanda número 500 de 1875\n",
            "\tVoy por la tanda número 525 de 1875\n",
            "\tVoy por la tanda número 550 de 1875\n",
            "\tVoy por la tanda número 575 de 1875\n",
            "\tVoy por la tanda número 600 de 1875\n",
            "\tVoy por la tanda número 625 de 1875\n",
            "\tVoy por la tanda número 650 de 1875\n",
            "\tVoy por la tanda número 675 de 1875\n",
            "\tVoy por la tanda número 700 de 1875\n",
            "\tVoy por la tanda número 725 de 1875\n",
            "\tVoy por la tanda número 750 de 1875\n",
            "\tVoy por la tanda número 775 de 1875\n",
            "\tVoy por la tanda número 800 de 1875\n",
            "\tVoy por la tanda número 825 de 1875\n",
            "\tVoy por la tanda número 850 de 1875\n",
            "\tVoy por la tanda número 875 de 1875\n",
            "\tVoy por la tanda número 900 de 1875\n",
            "\tVoy por la tanda número 925 de 1875\n",
            "\tVoy por la tanda número 950 de 1875\n",
            "\tVoy por la tanda número 975 de 1875\n",
            "\tVoy por la tanda número 1000 de 1875\n",
            "\tVoy por la tanda número 1025 de 1875\n",
            "\tVoy por la tanda número 1050 de 1875\n",
            "\tVoy por la tanda número 1075 de 1875\n",
            "\tVoy por la tanda número 1100 de 1875\n",
            "\tVoy por la tanda número 1125 de 1875\n",
            "\tVoy por la tanda número 1150 de 1875\n",
            "\tVoy por la tanda número 1175 de 1875\n",
            "\tVoy por la tanda número 1200 de 1875\n",
            "\tVoy por la tanda número 1225 de 1875\n",
            "\tVoy por la tanda número 1250 de 1875\n",
            "\tVoy por la tanda número 1275 de 1875\n",
            "\tVoy por la tanda número 1300 de 1875\n",
            "\tVoy por la tanda número 1325 de 1875\n",
            "\tVoy por la tanda número 1350 de 1875\n",
            "\tVoy por la tanda número 1375 de 1875\n",
            "\tVoy por la tanda número 1400 de 1875\n",
            "\tVoy por la tanda número 1425 de 1875\n",
            "\tVoy por la tanda número 1450 de 1875\n",
            "\tVoy por la tanda número 1475 de 1875\n",
            "\tVoy por la tanda número 1500 de 1875\n",
            "\tVoy por la tanda número 1525 de 1875\n",
            "\tVoy por la tanda número 1550 de 1875\n",
            "\tVoy por la tanda número 1575 de 1875\n",
            "\tVoy por la tanda número 1600 de 1875\n",
            "\tVoy por la tanda número 1625 de 1875\n",
            "\tVoy por la tanda número 1650 de 1875\n",
            "\tVoy por la tanda número 1675 de 1875\n",
            "\tVoy por la tanda número 1700 de 1875\n",
            "\tVoy por la tanda número 1725 de 1875\n",
            "\tVoy por la tanda número 1750 de 1875\n",
            "\tVoy por la tanda número 1775 de 1875\n",
            "\tVoy por la tanda número 1800 de 1875\n",
            "\tVoy por la tanda número 1825 de 1875\n",
            "\tVoy por la tanda número 1850 de 1875\n",
            "\tVoy por la tanda número 1875 de 1875\n",
            "Voy por la época 9\n",
            "\tVoy por la tanda número 25 de 1875\n",
            "\tVoy por la tanda número 50 de 1875\n",
            "\tVoy por la tanda número 75 de 1875\n",
            "\tVoy por la tanda número 100 de 1875\n",
            "\tVoy por la tanda número 125 de 1875\n",
            "\tVoy por la tanda número 150 de 1875\n",
            "\tVoy por la tanda número 175 de 1875\n",
            "\tVoy por la tanda número 200 de 1875\n",
            "\tVoy por la tanda número 225 de 1875\n",
            "\tVoy por la tanda número 250 de 1875\n",
            "\tVoy por la tanda número 275 de 1875\n",
            "\tVoy por la tanda número 300 de 1875\n",
            "\tVoy por la tanda número 325 de 1875\n",
            "\tVoy por la tanda número 350 de 1875\n",
            "\tVoy por la tanda número 375 de 1875\n",
            "\tVoy por la tanda número 400 de 1875\n",
            "\tVoy por la tanda número 425 de 1875\n",
            "\tVoy por la tanda número 450 de 1875\n",
            "\tVoy por la tanda número 475 de 1875\n",
            "\tVoy por la tanda número 500 de 1875\n",
            "\tVoy por la tanda número 525 de 1875\n",
            "\tVoy por la tanda número 550 de 1875\n",
            "\tVoy por la tanda número 575 de 1875\n",
            "\tVoy por la tanda número 600 de 1875\n",
            "\tVoy por la tanda número 625 de 1875\n",
            "\tVoy por la tanda número 650 de 1875\n",
            "\tVoy por la tanda número 675 de 1875\n",
            "\tVoy por la tanda número 700 de 1875\n",
            "\tVoy por la tanda número 725 de 1875\n",
            "\tVoy por la tanda número 750 de 1875\n",
            "\tVoy por la tanda número 775 de 1875\n",
            "\tVoy por la tanda número 800 de 1875\n",
            "\tVoy por la tanda número 825 de 1875\n",
            "\tVoy por la tanda número 850 de 1875\n",
            "\tVoy por la tanda número 875 de 1875\n",
            "\tVoy por la tanda número 900 de 1875\n",
            "\tVoy por la tanda número 925 de 1875\n",
            "\tVoy por la tanda número 950 de 1875\n",
            "\tVoy por la tanda número 975 de 1875\n",
            "\tVoy por la tanda número 1000 de 1875\n",
            "\tVoy por la tanda número 1025 de 1875\n",
            "\tVoy por la tanda número 1050 de 1875\n",
            "\tVoy por la tanda número 1075 de 1875\n",
            "\tVoy por la tanda número 1100 de 1875\n",
            "\tVoy por la tanda número 1125 de 1875\n",
            "\tVoy por la tanda número 1150 de 1875\n",
            "\tVoy por la tanda número 1175 de 1875\n",
            "\tVoy por la tanda número 1200 de 1875\n",
            "\tVoy por la tanda número 1225 de 1875\n",
            "\tVoy por la tanda número 1250 de 1875\n",
            "\tVoy por la tanda número 1275 de 1875\n",
            "\tVoy por la tanda número 1300 de 1875\n",
            "\tVoy por la tanda número 1325 de 1875\n",
            "\tVoy por la tanda número 1350 de 1875\n",
            "\tVoy por la tanda número 1375 de 1875\n",
            "\tVoy por la tanda número 1400 de 1875\n",
            "\tVoy por la tanda número 1425 de 1875\n",
            "\tVoy por la tanda número 1450 de 1875\n",
            "\tVoy por la tanda número 1475 de 1875\n",
            "\tVoy por la tanda número 1500 de 1875\n",
            "\tVoy por la tanda número 1525 de 1875\n",
            "\tVoy por la tanda número 1550 de 1875\n",
            "\tVoy por la tanda número 1575 de 1875\n",
            "\tVoy por la tanda número 1600 de 1875\n",
            "\tVoy por la tanda número 1625 de 1875\n",
            "\tVoy por la tanda número 1650 de 1875\n",
            "\tVoy por la tanda número 1675 de 1875\n",
            "\tVoy por la tanda número 1700 de 1875\n",
            "\tVoy por la tanda número 1725 de 1875\n",
            "\tVoy por la tanda número 1750 de 1875\n",
            "\tVoy por la tanda número 1775 de 1875\n",
            "\tVoy por la tanda número 1800 de 1875\n",
            "\tVoy por la tanda número 1825 de 1875\n",
            "\tVoy por la tanda número 1850 de 1875\n",
            "\tVoy por la tanda número 1875 de 1875\n",
            "Voy por la época 10\n",
            "\tVoy por la tanda número 25 de 1875\n",
            "\tVoy por la tanda número 50 de 1875\n",
            "\tVoy por la tanda número 75 de 1875\n",
            "\tVoy por la tanda número 100 de 1875\n",
            "\tVoy por la tanda número 125 de 1875\n",
            "\tVoy por la tanda número 150 de 1875\n",
            "\tVoy por la tanda número 175 de 1875\n",
            "\tVoy por la tanda número 200 de 1875\n",
            "\tVoy por la tanda número 225 de 1875\n",
            "\tVoy por la tanda número 250 de 1875\n",
            "\tVoy por la tanda número 275 de 1875\n",
            "\tVoy por la tanda número 300 de 1875\n",
            "\tVoy por la tanda número 325 de 1875\n",
            "\tVoy por la tanda número 350 de 1875\n",
            "\tVoy por la tanda número 375 de 1875\n",
            "\tVoy por la tanda número 400 de 1875\n",
            "\tVoy por la tanda número 425 de 1875\n",
            "\tVoy por la tanda número 450 de 1875\n",
            "\tVoy por la tanda número 475 de 1875\n",
            "\tVoy por la tanda número 500 de 1875\n",
            "\tVoy por la tanda número 525 de 1875\n",
            "\tVoy por la tanda número 550 de 1875\n",
            "\tVoy por la tanda número 575 de 1875\n",
            "\tVoy por la tanda número 600 de 1875\n",
            "\tVoy por la tanda número 625 de 1875\n",
            "\tVoy por la tanda número 650 de 1875\n",
            "\tVoy por la tanda número 675 de 1875\n",
            "\tVoy por la tanda número 700 de 1875\n",
            "\tVoy por la tanda número 725 de 1875\n",
            "\tVoy por la tanda número 750 de 1875\n",
            "\tVoy por la tanda número 775 de 1875\n",
            "\tVoy por la tanda número 800 de 1875\n",
            "\tVoy por la tanda número 825 de 1875\n",
            "\tVoy por la tanda número 850 de 1875\n",
            "\tVoy por la tanda número 875 de 1875\n",
            "\tVoy por la tanda número 900 de 1875\n",
            "\tVoy por la tanda número 925 de 1875\n",
            "\tVoy por la tanda número 950 de 1875\n",
            "\tVoy por la tanda número 975 de 1875\n",
            "\tVoy por la tanda número 1000 de 1875\n",
            "\tVoy por la tanda número 1025 de 1875\n",
            "\tVoy por la tanda número 1050 de 1875\n",
            "\tVoy por la tanda número 1075 de 1875\n",
            "\tVoy por la tanda número 1100 de 1875\n",
            "\tVoy por la tanda número 1125 de 1875\n",
            "\tVoy por la tanda número 1150 de 1875\n",
            "\tVoy por la tanda número 1175 de 1875\n",
            "\tVoy por la tanda número 1200 de 1875\n",
            "\tVoy por la tanda número 1225 de 1875\n",
            "\tVoy por la tanda número 1250 de 1875\n",
            "\tVoy por la tanda número 1275 de 1875\n",
            "\tVoy por la tanda número 1300 de 1875\n",
            "\tVoy por la tanda número 1325 de 1875\n",
            "\tVoy por la tanda número 1350 de 1875\n",
            "\tVoy por la tanda número 1375 de 1875\n",
            "\tVoy por la tanda número 1400 de 1875\n",
            "\tVoy por la tanda número 1425 de 1875\n",
            "\tVoy por la tanda número 1450 de 1875\n",
            "\tVoy por la tanda número 1475 de 1875\n",
            "\tVoy por la tanda número 1500 de 1875\n",
            "\tVoy por la tanda número 1525 de 1875\n",
            "\tVoy por la tanda número 1550 de 1875\n",
            "\tVoy por la tanda número 1575 de 1875\n",
            "\tVoy por la tanda número 1600 de 1875\n",
            "\tVoy por la tanda número 1625 de 1875\n",
            "\tVoy por la tanda número 1650 de 1875\n",
            "\tVoy por la tanda número 1675 de 1875\n",
            "\tVoy por la tanda número 1700 de 1875\n",
            "\tVoy por la tanda número 1725 de 1875\n",
            "\tVoy por la tanda número 1750 de 1875\n",
            "\tVoy por la tanda número 1775 de 1875\n",
            "\tVoy por la tanda número 1800 de 1875\n",
            "\tVoy por la tanda número 1825 de 1875\n",
            "\tVoy por la tanda número 1850 de 1875\n",
            "\tVoy por la tanda número 1875 de 1875\n",
            "Voy por la época 11\n",
            "\tVoy por la tanda número 25 de 1875\n",
            "\tVoy por la tanda número 50 de 1875\n",
            "\tVoy por la tanda número 75 de 1875\n",
            "\tVoy por la tanda número 100 de 1875\n",
            "\tVoy por la tanda número 125 de 1875\n",
            "\tVoy por la tanda número 150 de 1875\n",
            "\tVoy por la tanda número 175 de 1875\n",
            "\tVoy por la tanda número 200 de 1875\n",
            "\tVoy por la tanda número 225 de 1875\n",
            "\tVoy por la tanda número 250 de 1875\n",
            "\tVoy por la tanda número 275 de 1875\n",
            "\tVoy por la tanda número 300 de 1875\n",
            "\tVoy por la tanda número 325 de 1875\n",
            "\tVoy por la tanda número 350 de 1875\n",
            "\tVoy por la tanda número 375 de 1875\n",
            "\tVoy por la tanda número 400 de 1875\n",
            "\tVoy por la tanda número 425 de 1875\n",
            "\tVoy por la tanda número 450 de 1875\n",
            "\tVoy por la tanda número 475 de 1875\n",
            "\tVoy por la tanda número 500 de 1875\n",
            "\tVoy por la tanda número 525 de 1875\n",
            "\tVoy por la tanda número 550 de 1875\n",
            "\tVoy por la tanda número 575 de 1875\n",
            "\tVoy por la tanda número 600 de 1875\n",
            "\tVoy por la tanda número 625 de 1875\n",
            "\tVoy por la tanda número 650 de 1875\n",
            "\tVoy por la tanda número 675 de 1875\n",
            "\tVoy por la tanda número 700 de 1875\n",
            "\tVoy por la tanda número 725 de 1875\n",
            "\tVoy por la tanda número 750 de 1875\n",
            "\tVoy por la tanda número 775 de 1875\n",
            "\tVoy por la tanda número 800 de 1875\n",
            "\tVoy por la tanda número 825 de 1875\n",
            "\tVoy por la tanda número 850 de 1875\n",
            "\tVoy por la tanda número 875 de 1875\n",
            "\tVoy por la tanda número 900 de 1875\n",
            "\tVoy por la tanda número 925 de 1875\n",
            "\tVoy por la tanda número 950 de 1875\n",
            "\tVoy por la tanda número 975 de 1875\n",
            "\tVoy por la tanda número 1000 de 1875\n",
            "\tVoy por la tanda número 1025 de 1875\n",
            "\tVoy por la tanda número 1050 de 1875\n",
            "\tVoy por la tanda número 1075 de 1875\n",
            "\tVoy por la tanda número 1100 de 1875\n",
            "\tVoy por la tanda número 1125 de 1875\n",
            "\tVoy por la tanda número 1150 de 1875\n",
            "\tVoy por la tanda número 1175 de 1875\n",
            "\tVoy por la tanda número 1200 de 1875\n",
            "\tVoy por la tanda número 1225 de 1875\n",
            "\tVoy por la tanda número 1250 de 1875\n",
            "\tVoy por la tanda número 1275 de 1875\n",
            "\tVoy por la tanda número 1300 de 1875\n",
            "\tVoy por la tanda número 1325 de 1875\n",
            "\tVoy por la tanda número 1350 de 1875\n",
            "\tVoy por la tanda número 1375 de 1875\n",
            "\tVoy por la tanda número 1400 de 1875\n",
            "\tVoy por la tanda número 1425 de 1875\n",
            "\tVoy por la tanda número 1450 de 1875\n",
            "\tVoy por la tanda número 1475 de 1875\n",
            "\tVoy por la tanda número 1500 de 1875\n",
            "\tVoy por la tanda número 1525 de 1875\n",
            "\tVoy por la tanda número 1550 de 1875\n",
            "\tVoy por la tanda número 1575 de 1875\n",
            "\tVoy por la tanda número 1600 de 1875\n",
            "\tVoy por la tanda número 1625 de 1875\n",
            "\tVoy por la tanda número 1650 de 1875\n",
            "\tVoy por la tanda número 1675 de 1875\n",
            "\tVoy por la tanda número 1700 de 1875\n",
            "\tVoy por la tanda número 1725 de 1875\n",
            "\tVoy por la tanda número 1750 de 1875\n",
            "\tVoy por la tanda número 1775 de 1875\n",
            "\tVoy por la tanda número 1800 de 1875\n",
            "\tVoy por la tanda número 1825 de 1875\n",
            "\tVoy por la tanda número 1850 de 1875\n",
            "\tVoy por la tanda número 1875 de 1875\n",
            "Voy por la época 12\n",
            "\tVoy por la tanda número 25 de 1875\n",
            "\tVoy por la tanda número 50 de 1875\n",
            "\tVoy por la tanda número 75 de 1875\n",
            "\tVoy por la tanda número 100 de 1875\n",
            "\tVoy por la tanda número 125 de 1875\n",
            "\tVoy por la tanda número 150 de 1875\n",
            "\tVoy por la tanda número 175 de 1875\n",
            "\tVoy por la tanda número 200 de 1875\n",
            "\tVoy por la tanda número 225 de 1875\n",
            "\tVoy por la tanda número 250 de 1875\n",
            "\tVoy por la tanda número 275 de 1875\n",
            "\tVoy por la tanda número 300 de 1875\n",
            "\tVoy por la tanda número 325 de 1875\n",
            "\tVoy por la tanda número 350 de 1875\n",
            "\tVoy por la tanda número 375 de 1875\n",
            "\tVoy por la tanda número 400 de 1875\n",
            "\tVoy por la tanda número 425 de 1875\n",
            "\tVoy por la tanda número 450 de 1875\n",
            "\tVoy por la tanda número 475 de 1875\n",
            "\tVoy por la tanda número 500 de 1875\n",
            "\tVoy por la tanda número 525 de 1875\n",
            "\tVoy por la tanda número 550 de 1875\n",
            "\tVoy por la tanda número 575 de 1875\n",
            "\tVoy por la tanda número 600 de 1875\n",
            "\tVoy por la tanda número 625 de 1875\n",
            "\tVoy por la tanda número 650 de 1875\n",
            "\tVoy por la tanda número 675 de 1875\n",
            "\tVoy por la tanda número 700 de 1875\n",
            "\tVoy por la tanda número 725 de 1875\n",
            "\tVoy por la tanda número 750 de 1875\n",
            "\tVoy por la tanda número 775 de 1875\n",
            "\tVoy por la tanda número 800 de 1875\n",
            "\tVoy por la tanda número 825 de 1875\n",
            "\tVoy por la tanda número 850 de 1875\n",
            "\tVoy por la tanda número 875 de 1875\n",
            "\tVoy por la tanda número 900 de 1875\n",
            "\tVoy por la tanda número 925 de 1875\n",
            "\tVoy por la tanda número 950 de 1875\n",
            "\tVoy por la tanda número 975 de 1875\n",
            "\tVoy por la tanda número 1000 de 1875\n",
            "\tVoy por la tanda número 1025 de 1875\n",
            "\tVoy por la tanda número 1050 de 1875\n",
            "\tVoy por la tanda número 1075 de 1875\n",
            "\tVoy por la tanda número 1100 de 1875\n",
            "\tVoy por la tanda número 1125 de 1875\n",
            "\tVoy por la tanda número 1150 de 1875\n",
            "\tVoy por la tanda número 1175 de 1875\n",
            "\tVoy por la tanda número 1200 de 1875\n",
            "\tVoy por la tanda número 1225 de 1875\n",
            "\tVoy por la tanda número 1250 de 1875\n",
            "\tVoy por la tanda número 1275 de 1875\n",
            "\tVoy por la tanda número 1300 de 1875\n",
            "\tVoy por la tanda número 1325 de 1875\n",
            "\tVoy por la tanda número 1350 de 1875\n",
            "\tVoy por la tanda número 1375 de 1875\n",
            "\tVoy por la tanda número 1400 de 1875\n",
            "\tVoy por la tanda número 1425 de 1875\n",
            "\tVoy por la tanda número 1450 de 1875\n",
            "\tVoy por la tanda número 1475 de 1875\n",
            "\tVoy por la tanda número 1500 de 1875\n",
            "\tVoy por la tanda número 1525 de 1875\n",
            "\tVoy por la tanda número 1550 de 1875\n",
            "\tVoy por la tanda número 1575 de 1875\n",
            "\tVoy por la tanda número 1600 de 1875\n",
            "\tVoy por la tanda número 1625 de 1875\n",
            "\tVoy por la tanda número 1650 de 1875\n",
            "\tVoy por la tanda número 1675 de 1875\n",
            "\tVoy por la tanda número 1700 de 1875\n",
            "\tVoy por la tanda número 1725 de 1875\n",
            "\tVoy por la tanda número 1750 de 1875\n",
            "\tVoy por la tanda número 1775 de 1875\n",
            "\tVoy por la tanda número 1800 de 1875\n",
            "\tVoy por la tanda número 1825 de 1875\n",
            "\tVoy por la tanda número 1850 de 1875\n",
            "\tVoy por la tanda número 1875 de 1875\n",
            "Voy por la época 13\n",
            "\tVoy por la tanda número 25 de 1875\n",
            "\tVoy por la tanda número 50 de 1875\n",
            "\tVoy por la tanda número 75 de 1875\n",
            "\tVoy por la tanda número 100 de 1875\n",
            "\tVoy por la tanda número 125 de 1875\n",
            "\tVoy por la tanda número 150 de 1875\n",
            "\tVoy por la tanda número 175 de 1875\n",
            "\tVoy por la tanda número 200 de 1875\n",
            "\tVoy por la tanda número 225 de 1875\n",
            "\tVoy por la tanda número 250 de 1875\n",
            "\tVoy por la tanda número 275 de 1875\n",
            "\tVoy por la tanda número 300 de 1875\n",
            "\tVoy por la tanda número 325 de 1875\n",
            "\tVoy por la tanda número 350 de 1875\n",
            "\tVoy por la tanda número 375 de 1875\n",
            "\tVoy por la tanda número 400 de 1875\n",
            "\tVoy por la tanda número 425 de 1875\n",
            "\tVoy por la tanda número 450 de 1875\n",
            "\tVoy por la tanda número 475 de 1875\n",
            "\tVoy por la tanda número 500 de 1875\n",
            "\tVoy por la tanda número 525 de 1875\n",
            "\tVoy por la tanda número 550 de 1875\n",
            "\tVoy por la tanda número 575 de 1875\n",
            "\tVoy por la tanda número 600 de 1875\n",
            "\tVoy por la tanda número 625 de 1875\n",
            "\tVoy por la tanda número 650 de 1875\n",
            "\tVoy por la tanda número 675 de 1875\n",
            "\tVoy por la tanda número 700 de 1875\n",
            "\tVoy por la tanda número 725 de 1875\n",
            "\tVoy por la tanda número 750 de 1875\n",
            "\tVoy por la tanda número 775 de 1875\n",
            "\tVoy por la tanda número 800 de 1875\n",
            "\tVoy por la tanda número 825 de 1875\n",
            "\tVoy por la tanda número 850 de 1875\n",
            "\tVoy por la tanda número 875 de 1875\n",
            "\tVoy por la tanda número 900 de 1875\n",
            "\tVoy por la tanda número 925 de 1875\n",
            "\tVoy por la tanda número 950 de 1875\n",
            "\tVoy por la tanda número 975 de 1875\n",
            "\tVoy por la tanda número 1000 de 1875\n",
            "\tVoy por la tanda número 1025 de 1875\n",
            "\tVoy por la tanda número 1050 de 1875\n",
            "\tVoy por la tanda número 1075 de 1875\n",
            "\tVoy por la tanda número 1100 de 1875\n",
            "\tVoy por la tanda número 1125 de 1875\n",
            "\tVoy por la tanda número 1150 de 1875\n",
            "\tVoy por la tanda número 1175 de 1875\n",
            "\tVoy por la tanda número 1200 de 1875\n",
            "\tVoy por la tanda número 1225 de 1875\n",
            "\tVoy por la tanda número 1250 de 1875\n",
            "\tVoy por la tanda número 1275 de 1875\n",
            "\tVoy por la tanda número 1300 de 1875\n",
            "\tVoy por la tanda número 1325 de 1875\n",
            "\tVoy por la tanda número 1350 de 1875\n",
            "\tVoy por la tanda número 1375 de 1875\n",
            "\tVoy por la tanda número 1400 de 1875\n",
            "\tVoy por la tanda número 1425 de 1875\n",
            "\tVoy por la tanda número 1450 de 1875\n",
            "\tVoy por la tanda número 1475 de 1875\n",
            "\tVoy por la tanda número 1500 de 1875\n",
            "\tVoy por la tanda número 1525 de 1875\n",
            "\tVoy por la tanda número 1550 de 1875\n",
            "\tVoy por la tanda número 1575 de 1875\n",
            "\tVoy por la tanda número 1600 de 1875\n",
            "\tVoy por la tanda número 1625 de 1875\n",
            "\tVoy por la tanda número 1650 de 1875\n",
            "\tVoy por la tanda número 1675 de 1875\n",
            "\tVoy por la tanda número 1700 de 1875\n",
            "\tVoy por la tanda número 1725 de 1875\n",
            "\tVoy por la tanda número 1750 de 1875\n",
            "\tVoy por la tanda número 1775 de 1875\n",
            "\tVoy por la tanda número 1800 de 1875\n",
            "\tVoy por la tanda número 1825 de 1875\n",
            "\tVoy por la tanda número 1850 de 1875\n",
            "\tVoy por la tanda número 1875 de 1875\n",
            "Voy por la época 14\n",
            "\tVoy por la tanda número 25 de 1875\n",
            "\tVoy por la tanda número 50 de 1875\n",
            "\tVoy por la tanda número 75 de 1875\n",
            "\tVoy por la tanda número 100 de 1875\n",
            "\tVoy por la tanda número 125 de 1875\n",
            "\tVoy por la tanda número 150 de 1875\n",
            "\tVoy por la tanda número 175 de 1875\n",
            "\tVoy por la tanda número 200 de 1875\n",
            "\tVoy por la tanda número 225 de 1875\n",
            "\tVoy por la tanda número 250 de 1875\n",
            "\tVoy por la tanda número 275 de 1875\n",
            "\tVoy por la tanda número 300 de 1875\n",
            "\tVoy por la tanda número 325 de 1875\n",
            "\tVoy por la tanda número 350 de 1875\n",
            "\tVoy por la tanda número 375 de 1875\n",
            "\tVoy por la tanda número 400 de 1875\n",
            "\tVoy por la tanda número 425 de 1875\n",
            "\tVoy por la tanda número 450 de 1875\n",
            "\tVoy por la tanda número 475 de 1875\n",
            "\tVoy por la tanda número 500 de 1875\n",
            "\tVoy por la tanda número 525 de 1875\n",
            "\tVoy por la tanda número 550 de 1875\n",
            "\tVoy por la tanda número 575 de 1875\n",
            "\tVoy por la tanda número 600 de 1875\n",
            "\tVoy por la tanda número 625 de 1875\n",
            "\tVoy por la tanda número 650 de 1875\n",
            "\tVoy por la tanda número 675 de 1875\n",
            "\tVoy por la tanda número 700 de 1875\n",
            "\tVoy por la tanda número 725 de 1875\n",
            "\tVoy por la tanda número 750 de 1875\n",
            "\tVoy por la tanda número 775 de 1875\n",
            "\tVoy por la tanda número 800 de 1875\n",
            "\tVoy por la tanda número 825 de 1875\n",
            "\tVoy por la tanda número 850 de 1875\n",
            "\tVoy por la tanda número 875 de 1875\n",
            "\tVoy por la tanda número 900 de 1875\n",
            "\tVoy por la tanda número 925 de 1875\n",
            "\tVoy por la tanda número 950 de 1875\n",
            "\tVoy por la tanda número 975 de 1875\n",
            "\tVoy por la tanda número 1000 de 1875\n",
            "\tVoy por la tanda número 1025 de 1875\n",
            "\tVoy por la tanda número 1050 de 1875\n",
            "\tVoy por la tanda número 1075 de 1875\n",
            "\tVoy por la tanda número 1100 de 1875\n",
            "\tVoy por la tanda número 1125 de 1875\n",
            "\tVoy por la tanda número 1150 de 1875\n",
            "\tVoy por la tanda número 1175 de 1875\n",
            "\tVoy por la tanda número 1200 de 1875\n",
            "\tVoy por la tanda número 1225 de 1875\n",
            "\tVoy por la tanda número 1250 de 1875\n",
            "\tVoy por la tanda número 1275 de 1875\n",
            "\tVoy por la tanda número 1300 de 1875\n",
            "\tVoy por la tanda número 1325 de 1875\n",
            "\tVoy por la tanda número 1350 de 1875\n",
            "\tVoy por la tanda número 1375 de 1875\n",
            "\tVoy por la tanda número 1400 de 1875\n",
            "\tVoy por la tanda número 1425 de 1875\n",
            "\tVoy por la tanda número 1450 de 1875\n",
            "\tVoy por la tanda número 1475 de 1875\n",
            "\tVoy por la tanda número 1500 de 1875\n",
            "\tVoy por la tanda número 1525 de 1875\n",
            "\tVoy por la tanda número 1550 de 1875\n",
            "\tVoy por la tanda número 1575 de 1875\n",
            "\tVoy por la tanda número 1600 de 1875\n",
            "\tVoy por la tanda número 1625 de 1875\n",
            "\tVoy por la tanda número 1650 de 1875\n",
            "\tVoy por la tanda número 1675 de 1875\n",
            "\tVoy por la tanda número 1700 de 1875\n",
            "\tVoy por la tanda número 1725 de 1875\n",
            "\tVoy por la tanda número 1750 de 1875\n",
            "\tVoy por la tanda número 1775 de 1875\n",
            "\tVoy por la tanda número 1800 de 1875\n",
            "\tVoy por la tanda número 1825 de 1875\n",
            "\tVoy por la tanda número 1850 de 1875\n",
            "\tVoy por la tanda número 1875 de 1875\n",
            "Voy por la época 15\n",
            "\tVoy por la tanda número 25 de 1875\n",
            "\tVoy por la tanda número 50 de 1875\n",
            "\tVoy por la tanda número 75 de 1875\n",
            "\tVoy por la tanda número 100 de 1875\n",
            "\tVoy por la tanda número 125 de 1875\n",
            "\tVoy por la tanda número 150 de 1875\n",
            "\tVoy por la tanda número 175 de 1875\n",
            "\tVoy por la tanda número 200 de 1875\n",
            "\tVoy por la tanda número 225 de 1875\n",
            "\tVoy por la tanda número 250 de 1875\n",
            "\tVoy por la tanda número 275 de 1875\n",
            "\tVoy por la tanda número 300 de 1875\n",
            "\tVoy por la tanda número 325 de 1875\n",
            "\tVoy por la tanda número 350 de 1875\n",
            "\tVoy por la tanda número 375 de 1875\n",
            "\tVoy por la tanda número 400 de 1875\n",
            "\tVoy por la tanda número 425 de 1875\n",
            "\tVoy por la tanda número 450 de 1875\n",
            "\tVoy por la tanda número 475 de 1875\n",
            "\tVoy por la tanda número 500 de 1875\n",
            "\tVoy por la tanda número 525 de 1875\n",
            "\tVoy por la tanda número 550 de 1875\n",
            "\tVoy por la tanda número 575 de 1875\n",
            "\tVoy por la tanda número 600 de 1875\n",
            "\tVoy por la tanda número 625 de 1875\n",
            "\tVoy por la tanda número 650 de 1875\n",
            "\tVoy por la tanda número 675 de 1875\n",
            "\tVoy por la tanda número 700 de 1875\n",
            "\tVoy por la tanda número 725 de 1875\n",
            "\tVoy por la tanda número 750 de 1875\n",
            "\tVoy por la tanda número 775 de 1875\n",
            "\tVoy por la tanda número 800 de 1875\n",
            "\tVoy por la tanda número 825 de 1875\n",
            "\tVoy por la tanda número 850 de 1875\n",
            "\tVoy por la tanda número 875 de 1875\n",
            "\tVoy por la tanda número 900 de 1875\n",
            "\tVoy por la tanda número 925 de 1875\n",
            "\tVoy por la tanda número 950 de 1875\n",
            "\tVoy por la tanda número 975 de 1875\n",
            "\tVoy por la tanda número 1000 de 1875\n",
            "\tVoy por la tanda número 1025 de 1875\n",
            "\tVoy por la tanda número 1050 de 1875\n",
            "\tVoy por la tanda número 1075 de 1875\n",
            "\tVoy por la tanda número 1100 de 1875\n",
            "\tVoy por la tanda número 1125 de 1875\n",
            "\tVoy por la tanda número 1150 de 1875\n",
            "\tVoy por la tanda número 1175 de 1875\n",
            "\tVoy por la tanda número 1200 de 1875\n",
            "\tVoy por la tanda número 1225 de 1875\n",
            "\tVoy por la tanda número 1250 de 1875\n",
            "\tVoy por la tanda número 1275 de 1875\n",
            "\tVoy por la tanda número 1300 de 1875\n",
            "\tVoy por la tanda número 1325 de 1875\n",
            "\tVoy por la tanda número 1350 de 1875\n",
            "\tVoy por la tanda número 1375 de 1875\n",
            "\tVoy por la tanda número 1400 de 1875\n",
            "\tVoy por la tanda número 1425 de 1875\n",
            "\tVoy por la tanda número 1450 de 1875\n",
            "\tVoy por la tanda número 1475 de 1875\n",
            "\tVoy por la tanda número 1500 de 1875\n",
            "\tVoy por la tanda número 1525 de 1875\n",
            "\tVoy por la tanda número 1550 de 1875\n",
            "\tVoy por la tanda número 1575 de 1875\n",
            "\tVoy por la tanda número 1600 de 1875\n",
            "\tVoy por la tanda número 1625 de 1875\n",
            "\tVoy por la tanda número 1650 de 1875\n",
            "\tVoy por la tanda número 1675 de 1875\n",
            "\tVoy por la tanda número 1700 de 1875\n",
            "\tVoy por la tanda número 1725 de 1875\n",
            "\tVoy por la tanda número 1750 de 1875\n",
            "\tVoy por la tanda número 1775 de 1875\n",
            "\tVoy por la tanda número 1800 de 1875\n",
            "\tVoy por la tanda número 1825 de 1875\n",
            "\tVoy por la tanda número 1850 de 1875\n",
            "\tVoy por la tanda número 1875 de 1875\n",
            "Voy por la época 16\n",
            "\tVoy por la tanda número 25 de 1875\n",
            "\tVoy por la tanda número 50 de 1875\n",
            "\tVoy por la tanda número 75 de 1875\n",
            "\tVoy por la tanda número 100 de 1875\n",
            "\tVoy por la tanda número 125 de 1875\n",
            "\tVoy por la tanda número 150 de 1875\n",
            "\tVoy por la tanda número 175 de 1875\n",
            "\tVoy por la tanda número 200 de 1875\n",
            "\tVoy por la tanda número 225 de 1875\n",
            "\tVoy por la tanda número 250 de 1875\n",
            "\tVoy por la tanda número 275 de 1875\n",
            "\tVoy por la tanda número 300 de 1875\n",
            "\tVoy por la tanda número 325 de 1875\n",
            "\tVoy por la tanda número 350 de 1875\n",
            "\tVoy por la tanda número 375 de 1875\n",
            "\tVoy por la tanda número 400 de 1875\n",
            "\tVoy por la tanda número 425 de 1875\n",
            "\tVoy por la tanda número 450 de 1875\n",
            "\tVoy por la tanda número 475 de 1875\n",
            "\tVoy por la tanda número 500 de 1875\n",
            "\tVoy por la tanda número 525 de 1875\n",
            "\tVoy por la tanda número 550 de 1875\n",
            "\tVoy por la tanda número 575 de 1875\n",
            "\tVoy por la tanda número 600 de 1875\n",
            "\tVoy por la tanda número 625 de 1875\n",
            "\tVoy por la tanda número 650 de 1875\n",
            "\tVoy por la tanda número 675 de 1875\n",
            "\tVoy por la tanda número 700 de 1875\n",
            "\tVoy por la tanda número 725 de 1875\n",
            "\tVoy por la tanda número 750 de 1875\n",
            "\tVoy por la tanda número 775 de 1875\n",
            "\tVoy por la tanda número 800 de 1875\n",
            "\tVoy por la tanda número 825 de 1875\n",
            "\tVoy por la tanda número 850 de 1875\n",
            "\tVoy por la tanda número 875 de 1875\n",
            "\tVoy por la tanda número 900 de 1875\n",
            "\tVoy por la tanda número 925 de 1875\n",
            "\tVoy por la tanda número 950 de 1875\n",
            "\tVoy por la tanda número 975 de 1875\n",
            "\tVoy por la tanda número 1000 de 1875\n",
            "\tVoy por la tanda número 1025 de 1875\n",
            "\tVoy por la tanda número 1050 de 1875\n",
            "\tVoy por la tanda número 1075 de 1875\n",
            "\tVoy por la tanda número 1100 de 1875\n",
            "\tVoy por la tanda número 1125 de 1875\n",
            "\tVoy por la tanda número 1150 de 1875\n",
            "\tVoy por la tanda número 1175 de 1875\n",
            "\tVoy por la tanda número 1200 de 1875\n",
            "\tVoy por la tanda número 1225 de 1875\n",
            "\tVoy por la tanda número 1250 de 1875\n",
            "\tVoy por la tanda número 1275 de 1875\n",
            "\tVoy por la tanda número 1300 de 1875\n",
            "\tVoy por la tanda número 1325 de 1875\n",
            "\tVoy por la tanda número 1350 de 1875\n",
            "\tVoy por la tanda número 1375 de 1875\n",
            "\tVoy por la tanda número 1400 de 1875\n",
            "\tVoy por la tanda número 1425 de 1875\n",
            "\tVoy por la tanda número 1450 de 1875\n",
            "\tVoy por la tanda número 1475 de 1875\n",
            "\tVoy por la tanda número 1500 de 1875\n",
            "\tVoy por la tanda número 1525 de 1875\n",
            "\tVoy por la tanda número 1550 de 1875\n",
            "\tVoy por la tanda número 1575 de 1875\n",
            "\tVoy por la tanda número 1600 de 1875\n",
            "\tVoy por la tanda número 1625 de 1875\n",
            "\tVoy por la tanda número 1650 de 1875\n",
            "\tVoy por la tanda número 1675 de 1875\n",
            "\tVoy por la tanda número 1700 de 1875\n",
            "\tVoy por la tanda número 1725 de 1875\n",
            "\tVoy por la tanda número 1750 de 1875\n",
            "\tVoy por la tanda número 1775 de 1875\n",
            "\tVoy por la tanda número 1800 de 1875\n",
            "\tVoy por la tanda número 1825 de 1875\n",
            "\tVoy por la tanda número 1850 de 1875\n",
            "\tVoy por la tanda número 1875 de 1875\n",
            "Voy por la época 17\n",
            "\tVoy por la tanda número 25 de 1875\n",
            "\tVoy por la tanda número 50 de 1875\n",
            "\tVoy por la tanda número 75 de 1875\n",
            "\tVoy por la tanda número 100 de 1875\n",
            "\tVoy por la tanda número 125 de 1875\n",
            "\tVoy por la tanda número 150 de 1875\n",
            "\tVoy por la tanda número 175 de 1875\n",
            "\tVoy por la tanda número 200 de 1875\n",
            "\tVoy por la tanda número 225 de 1875\n",
            "\tVoy por la tanda número 250 de 1875\n",
            "\tVoy por la tanda número 275 de 1875\n",
            "\tVoy por la tanda número 300 de 1875\n",
            "\tVoy por la tanda número 325 de 1875\n",
            "\tVoy por la tanda número 350 de 1875\n",
            "\tVoy por la tanda número 375 de 1875\n",
            "\tVoy por la tanda número 400 de 1875\n",
            "\tVoy por la tanda número 425 de 1875\n",
            "\tVoy por la tanda número 450 de 1875\n",
            "\tVoy por la tanda número 475 de 1875\n",
            "\tVoy por la tanda número 500 de 1875\n",
            "\tVoy por la tanda número 525 de 1875\n",
            "\tVoy por la tanda número 550 de 1875\n",
            "\tVoy por la tanda número 575 de 1875\n",
            "\tVoy por la tanda número 600 de 1875\n",
            "\tVoy por la tanda número 625 de 1875\n",
            "\tVoy por la tanda número 650 de 1875\n",
            "\tVoy por la tanda número 675 de 1875\n",
            "\tVoy por la tanda número 700 de 1875\n",
            "\tVoy por la tanda número 725 de 1875\n",
            "\tVoy por la tanda número 750 de 1875\n",
            "\tVoy por la tanda número 775 de 1875\n",
            "\tVoy por la tanda número 800 de 1875\n",
            "\tVoy por la tanda número 825 de 1875\n",
            "\tVoy por la tanda número 850 de 1875\n",
            "\tVoy por la tanda número 875 de 1875\n",
            "\tVoy por la tanda número 900 de 1875\n",
            "\tVoy por la tanda número 925 de 1875\n",
            "\tVoy por la tanda número 950 de 1875\n",
            "\tVoy por la tanda número 975 de 1875\n",
            "\tVoy por la tanda número 1000 de 1875\n",
            "\tVoy por la tanda número 1025 de 1875\n",
            "\tVoy por la tanda número 1050 de 1875\n",
            "\tVoy por la tanda número 1075 de 1875\n",
            "\tVoy por la tanda número 1100 de 1875\n",
            "\tVoy por la tanda número 1125 de 1875\n",
            "\tVoy por la tanda número 1150 de 1875\n",
            "\tVoy por la tanda número 1175 de 1875\n",
            "\tVoy por la tanda número 1200 de 1875\n",
            "\tVoy por la tanda número 1225 de 1875\n",
            "\tVoy por la tanda número 1250 de 1875\n",
            "\tVoy por la tanda número 1275 de 1875\n",
            "\tVoy por la tanda número 1300 de 1875\n",
            "\tVoy por la tanda número 1325 de 1875\n",
            "\tVoy por la tanda número 1350 de 1875\n",
            "\tVoy por la tanda número 1375 de 1875\n",
            "\tVoy por la tanda número 1400 de 1875\n",
            "\tVoy por la tanda número 1425 de 1875\n",
            "\tVoy por la tanda número 1450 de 1875\n",
            "\tVoy por la tanda número 1475 de 1875\n",
            "\tVoy por la tanda número 1500 de 1875\n",
            "\tVoy por la tanda número 1525 de 1875\n",
            "\tVoy por la tanda número 1550 de 1875\n",
            "\tVoy por la tanda número 1575 de 1875\n",
            "\tVoy por la tanda número 1600 de 1875\n",
            "\tVoy por la tanda número 1625 de 1875\n",
            "\tVoy por la tanda número 1650 de 1875\n",
            "\tVoy por la tanda número 1675 de 1875\n",
            "\tVoy por la tanda número 1700 de 1875\n",
            "\tVoy por la tanda número 1725 de 1875\n",
            "\tVoy por la tanda número 1750 de 1875\n",
            "\tVoy por la tanda número 1775 de 1875\n",
            "\tVoy por la tanda número 1800 de 1875\n",
            "\tVoy por la tanda número 1825 de 1875\n",
            "\tVoy por la tanda número 1850 de 1875\n",
            "\tVoy por la tanda número 1875 de 1875\n",
            "Voy por la época 18\n",
            "\tVoy por la tanda número 25 de 1875\n",
            "\tVoy por la tanda número 50 de 1875\n",
            "\tVoy por la tanda número 75 de 1875\n",
            "\tVoy por la tanda número 100 de 1875\n",
            "\tVoy por la tanda número 125 de 1875\n",
            "\tVoy por la tanda número 150 de 1875\n",
            "\tVoy por la tanda número 175 de 1875\n",
            "\tVoy por la tanda número 200 de 1875\n",
            "\tVoy por la tanda número 225 de 1875\n",
            "\tVoy por la tanda número 250 de 1875\n",
            "\tVoy por la tanda número 275 de 1875\n",
            "\tVoy por la tanda número 300 de 1875\n",
            "\tVoy por la tanda número 325 de 1875\n",
            "\tVoy por la tanda número 350 de 1875\n",
            "\tVoy por la tanda número 375 de 1875\n",
            "\tVoy por la tanda número 400 de 1875\n",
            "\tVoy por la tanda número 425 de 1875\n",
            "\tVoy por la tanda número 450 de 1875\n",
            "\tVoy por la tanda número 475 de 1875\n",
            "\tVoy por la tanda número 500 de 1875\n",
            "\tVoy por la tanda número 525 de 1875\n",
            "\tVoy por la tanda número 550 de 1875\n",
            "\tVoy por la tanda número 575 de 1875\n",
            "\tVoy por la tanda número 600 de 1875\n",
            "\tVoy por la tanda número 625 de 1875\n",
            "\tVoy por la tanda número 650 de 1875\n",
            "\tVoy por la tanda número 675 de 1875\n",
            "\tVoy por la tanda número 700 de 1875\n",
            "\tVoy por la tanda número 725 de 1875\n",
            "\tVoy por la tanda número 750 de 1875\n",
            "\tVoy por la tanda número 775 de 1875\n",
            "\tVoy por la tanda número 800 de 1875\n",
            "\tVoy por la tanda número 825 de 1875\n",
            "\tVoy por la tanda número 850 de 1875\n",
            "\tVoy por la tanda número 875 de 1875\n",
            "\tVoy por la tanda número 900 de 1875\n",
            "\tVoy por la tanda número 925 de 1875\n",
            "\tVoy por la tanda número 950 de 1875\n",
            "\tVoy por la tanda número 975 de 1875\n",
            "\tVoy por la tanda número 1000 de 1875\n",
            "\tVoy por la tanda número 1025 de 1875\n",
            "\tVoy por la tanda número 1050 de 1875\n",
            "\tVoy por la tanda número 1075 de 1875\n",
            "\tVoy por la tanda número 1100 de 1875\n",
            "\tVoy por la tanda número 1125 de 1875\n",
            "\tVoy por la tanda número 1150 de 1875\n",
            "\tVoy por la tanda número 1175 de 1875\n",
            "\tVoy por la tanda número 1200 de 1875\n",
            "\tVoy por la tanda número 1225 de 1875\n",
            "\tVoy por la tanda número 1250 de 1875\n",
            "\tVoy por la tanda número 1275 de 1875\n",
            "\tVoy por la tanda número 1300 de 1875\n",
            "\tVoy por la tanda número 1325 de 1875\n",
            "\tVoy por la tanda número 1350 de 1875\n",
            "\tVoy por la tanda número 1375 de 1875\n",
            "\tVoy por la tanda número 1400 de 1875\n",
            "\tVoy por la tanda número 1425 de 1875\n",
            "\tVoy por la tanda número 1450 de 1875\n",
            "\tVoy por la tanda número 1475 de 1875\n",
            "\tVoy por la tanda número 1500 de 1875\n",
            "\tVoy por la tanda número 1525 de 1875\n",
            "\tVoy por la tanda número 1550 de 1875\n",
            "\tVoy por la tanda número 1575 de 1875\n",
            "\tVoy por la tanda número 1600 de 1875\n",
            "\tVoy por la tanda número 1625 de 1875\n",
            "\tVoy por la tanda número 1650 de 1875\n",
            "\tVoy por la tanda número 1675 de 1875\n",
            "\tVoy por la tanda número 1700 de 1875\n",
            "\tVoy por la tanda número 1725 de 1875\n",
            "\tVoy por la tanda número 1750 de 1875\n",
            "\tVoy por la tanda número 1775 de 1875\n",
            "\tVoy por la tanda número 1800 de 1875\n",
            "\tVoy por la tanda número 1825 de 1875\n",
            "\tVoy por la tanda número 1850 de 1875\n",
            "\tVoy por la tanda número 1875 de 1875\n",
            "Voy por la época 19\n",
            "\tVoy por la tanda número 25 de 1875\n",
            "\tVoy por la tanda número 50 de 1875\n",
            "\tVoy por la tanda número 75 de 1875\n",
            "\tVoy por la tanda número 100 de 1875\n",
            "\tVoy por la tanda número 125 de 1875\n",
            "\tVoy por la tanda número 150 de 1875\n",
            "\tVoy por la tanda número 175 de 1875\n",
            "\tVoy por la tanda número 200 de 1875\n",
            "\tVoy por la tanda número 225 de 1875\n",
            "\tVoy por la tanda número 250 de 1875\n",
            "\tVoy por la tanda número 275 de 1875\n",
            "\tVoy por la tanda número 300 de 1875\n",
            "\tVoy por la tanda número 325 de 1875\n",
            "\tVoy por la tanda número 350 de 1875\n",
            "\tVoy por la tanda número 375 de 1875\n",
            "\tVoy por la tanda número 400 de 1875\n",
            "\tVoy por la tanda número 425 de 1875\n",
            "\tVoy por la tanda número 450 de 1875\n",
            "\tVoy por la tanda número 475 de 1875\n",
            "\tVoy por la tanda número 500 de 1875\n",
            "\tVoy por la tanda número 525 de 1875\n",
            "\tVoy por la tanda número 550 de 1875\n",
            "\tVoy por la tanda número 575 de 1875\n",
            "\tVoy por la tanda número 600 de 1875\n",
            "\tVoy por la tanda número 625 de 1875\n",
            "\tVoy por la tanda número 650 de 1875\n"
          ]
        }
      ],
      "source": [
        "for epoca in range(epocas):\n",
        "    print(f\"Voy por la época {epoca + 1}\")\n",
        "    i = 0\n",
        "    # Para cada tanda en el conjunto de datos\n",
        "    for X_tanda in datos:\n",
        "        i = i + 1\n",
        "        if i % 25 == 0:\n",
        "            print(f\"\\tVoy por la tanda número {i} de {len(mis_datos) // tamanio_tanda}\")\n",
        "\n",
        "        ##############################################\n",
        "        ## Fase 1 - Entrenamiento del DISCRIMINADOR ##\n",
        "        ##############################################\n",
        "\n",
        "        # Crear Ruido\n",
        "        ruido = tf.random.normal(shape = [tamanio_tanda,\n",
        "                                          tamanio_codificacion])\n",
        "\n",
        "        # Generar imágenes falsas (números) basadas sólo en una entrada de ruido\n",
        "        # Notar que el Generador nunca vé imágenes reales (solo ruido)\n",
        "        imagenes_gen = generador(ruido)\n",
        "\n",
        "        # Concatenar las Imágenes Generadas con las Verdaderas\n",
        "        # Para poder utilizar tf.concat, los tipos de los datos deben\n",
        "        #    coincidir!\n",
        "        X_falso_vs_real = tf.concat([imagenes_gen,\n",
        "                                     tf.dtypes.cast(X_tanda,\n",
        "                                                    tf.float32)],\n",
        "                                    axis = 0)\n",
        "\n",
        "        # Las metas se fijan en cero (0) para imágenes falsas\n",
        "        #     y uno (1) para imágenes reales\n",
        "        y1 = tf.constant([[0.]] * tamanio_tanda + [[1.]] * tamanio_tanda)\n",
        "\n",
        "        # La siguiente instrucción obvia una advertencia de Keras\n",
        "        discriminador.trainable = True\n",
        "\n",
        "        # Entrenar al discriminador con esta tanda\n",
        "        discriminador.train_on_batch(X_falso_vs_real, y1)\n",
        "\n",
        "\n",
        "        ##########################################\n",
        "        ## Fase 2 - Entrenamiento del GENERADOR ##\n",
        "        ##########################################\n",
        "\n",
        "        # Crear algo de ruido\n",
        "        ruido = tf.random.normal(shape=[tamanio_tanda,\n",
        "                                        tamanio_codificacion])\n",
        "\n",
        "        # Se quiere que el discriminador crea\n",
        "        #   que las imágenes falas son reales\n",
        "        y2 = tf.constant([[1.]] * tamanio_tanda)\n",
        "\n",
        "        # Evitar una advertencia\n",
        "        discriminador.trainable = False\n",
        "\n",
        "        GAN.train_on_batch(ruido, y2)\n",
        "\n",
        "print(\"Entrenamiento Completado\")"
      ]
    },
    {
      "cell_type": "markdown",
      "metadata": {
        "id": "1Pf6kNAJMQsP"
      },
      "source": [
        "**Ahora que está todo entrenado, se puede probar solo el generador para producir imágenes**"
      ]
    },
    {
      "cell_type": "code",
      "execution_count": null,
      "metadata": {
        "id": "stgfy5mitb1U",
        "tags": []
      },
      "outputs": [],
      "source": [
        "ruido = tf.random.normal(shape = [10, tamanio_codificacion])"
      ]
    },
    {
      "cell_type": "code",
      "execution_count": null,
      "metadata": {
        "id": "GqoGCdk7tb1U"
      },
      "outputs": [],
      "source": [
        "ruido.shape"
      ]
    },
    {
      "cell_type": "code",
      "execution_count": null,
      "metadata": {
        "id": "TpLla-pZtb1V"
      },
      "outputs": [],
      "source": [
        "plt.imshow(ruido)"
      ]
    },
    {
      "cell_type": "code",
      "execution_count": null,
      "metadata": {
        "id": "E3WIq9Obtb1W",
        "tags": []
      },
      "outputs": [],
      "source": [
        "imagenes = generador(ruido)\n"
      ]
    },
    {
      "cell_type": "markdown",
      "metadata": {
        "id": "PBcIkwXAMQsS"
      },
      "source": [
        "**Utilice esta sección para trabajar con Jupyter NB**"
      ]
    },
    {
      "cell_type": "code",
      "execution_count": null,
      "metadata": {
        "colab": {
          "base_uri": "https://localhost:8080/",
          "height": 447
        },
        "id": "glDvQAs6MQsT",
        "outputId": "57c4535d-d266-4704-a78b-c3b769f7e7f8"
      },
      "outputs": [
        {
          "output_type": "execute_result",
          "data": {
            "text/plain": [
              "<matplotlib.image.AxesImage at 0x796a8f308e80>"
            ]
          },
          "metadata": {},
          "execution_count": 49
        },
        {
          "output_type": "display_data",
          "data": {
            "text/plain": [
              "<Figure size 640x480 with 1 Axes>"
            ],
            "image/png": "[encoded data removed]"
          },
          "metadata": {}
        }
      ],
      "source": [
        "plt.imshow(imagenes[0])"
      ]
    },
    {
      "cell_type": "code",
      "execution_count": null,
      "metadata": {
        "tags": [],
        "colab": {
          "base_uri": "https://localhost:8080/",
          "height": 447
        },
        "id": "rids8u91MQsT",
        "outputId": "6b78c6f0-953e-4dd5-eb83-90c986b896b2"
      },
      "outputs": [
        {
          "output_type": "execute_result",
          "data": {
            "text/plain": [
              "<matplotlib.image.AxesImage at 0x796a8ca809a0>"
            ]
          },
          "metadata": {},
          "execution_count": 50
        },
        {
          "output_type": "display_data",
          "data": {
            "text/plain": [
              "<Figure size 640x480 with 1 Axes>"
            ],
            "image/png": "[encoded data removed]"
          },
          "metadata": {}
        }
      ],
      "source": [
        "plt.imshow(imagenes[3])"
      ]
    },
    {
      "cell_type": "code",
      "execution_count": null,
      "metadata": {
        "tags": [],
        "colab": {
          "base_uri": "https://localhost:8080/",
          "height": 447
        },
        "id": "K4JPgMVwMQsT",
        "outputId": "766dc8b0-9ad2-4914-aae3-692edab0e319"
      },
      "outputs": [
        {
          "output_type": "execute_result",
          "data": {
            "text/plain": [
              "<matplotlib.image.AxesImage at 0x796a8c94d000>"
            ]
          },
          "metadata": {},
          "execution_count": 52
        },
        {
          "output_type": "display_data",
          "data": {
            "text/plain": [
              "<Figure size 640x480 with 1 Axes>"
            ],
            "image/png": "[encoded data removed]"
          },
          "metadata": {}
        }
      ],
      "source": [
        "plt.imshow(imagenes[6])"
      ]
    },
    {
      "cell_type": "code",
      "execution_count": null,
      "metadata": {
        "tags": [],
        "colab": {
          "base_uri": "https://localhost:8080/",
          "height": 447
        },
        "id": "eTMR8jixMQsU",
        "outputId": "072c494e-044c-4b53-d0b9-78c920781b54"
      },
      "outputs": [
        {
          "output_type": "execute_result",
          "data": {
            "text/plain": [
              "<matplotlib.image.AxesImage at 0x796a8c8f47c0>"
            ]
          },
          "metadata": {},
          "execution_count": 51
        },
        {
          "output_type": "display_data",
          "data": {
            "text/plain": [
              "<Figure size 640x480 with 1 Axes>"
            ],
            "image/png": "[encoded data removed]"
          },
          "metadata": {}
        }
      ],
      "source": [
        "plt.imshow(imagenes[9])"
      ]
    },
    {
      "cell_type": "markdown",
      "metadata": {
        "id": "7XBd7qtYMQsU"
      },
      "source": [
        "**Utilice esta sección para trabajar con Google Colab**"
      ]
    },
    {
      "cell_type": "code",
      "execution_count": null,
      "metadata": {
        "id": "qGJ7EoLbtb1W"
      },
      "outputs": [],
      "source": [
        "from tensorflow.python.ops.numpy_ops import np_config\n",
        "np_config.enable_numpy_behavior()"
      ]
    },
    {
      "cell_type": "code",
      "execution_count": null,
      "metadata": {
        "tags": [],
        "colab": {
          "base_uri": "https://localhost:8080/",
          "height": 447
        },
        "id": "3cv2_2YJMQsU",
        "outputId": "7ce6ed25-6b6f-42b1-abc6-1b29a6d37295"
      },
      "outputs": [
        {
          "output_type": "execute_result",
          "data": {
            "text/plain": [
              "<matplotlib.image.AxesImage at 0x796a8c7ce4d0>"
            ]
          },
          "metadata": {},
          "execution_count": 54
        },
        {
          "output_type": "display_data",
          "data": {
            "text/plain": [
              "<Figure size 640x480 with 1 Axes>"
            ],
            "image/png": "[encoded data removed]"
          },
          "metadata": {}
        }
      ],
      "source": [
        "n = 0\n",
        "plt.imshow(imagenes[n].reshape(28, 28))"
      ]
    },
    {
      "cell_type": "code",
      "source": [
        "n = 1\n",
        "plt.imshow(imagenes[n].reshape(28, 28))"
      ],
      "metadata": {
        "colab": {
          "base_uri": "https://localhost:8080/",
          "height": 447
        },
        "id": "DZT1ZNqgsWkW",
        "outputId": "8d26f21d-ae85-4301-b2d7-82c2631e999b"
      },
      "execution_count": null,
      "outputs": [
        {
          "output_type": "execute_result",
          "data": {
            "text/plain": [
              "<matplotlib.image.AxesImage at 0x796a8c62df30>"
            ]
          },
          "metadata": {},
          "execution_count": 63
        },
        {
          "output_type": "display_data",
          "data": {
            "text/plain": [
              "<Figure size 640x480 with 1 Axes>"
            ],
            "image/png": "[encoded data removed]"
          },
          "metadata": {}
        }
      ]
    },
    {
      "cell_type": "code",
      "source": [
        "n = 2\n",
        "plt.imshow(imagenes[n].reshape(28, 28))"
      ],
      "metadata": {
        "colab": {
          "base_uri": "https://localhost:8080/",
          "height": 447
        },
        "id": "rT6JQzVnsX45",
        "outputId": "33c45a02-00a1-4d65-92b1-2e37dc3041ed"
      },
      "execution_count": null,
      "outputs": [
        {
          "output_type": "execute_result",
          "data": {
            "text/plain": [
              "<matplotlib.image.AxesImage at 0x796a7ee5fdf0>"
            ]
          },
          "metadata": {},
          "execution_count": 64
        },
        {
          "output_type": "display_data",
          "data": {
            "text/plain": [
              "<Figure size 640x480 with 1 Axes>"
            ],
            "image/png": "[encoded data removed]"
          },
          "metadata": {}
        }
      ]
    },
    {
      "cell_type": "code",
      "execution_count": null,
      "metadata": {
        "colab": {
          "base_uri": "https://localhost:8080/",
          "height": 447
        },
        "id": "a_a42HR4MQsV",
        "outputId": "86861adc-784a-45ca-b915-f0431239eb74"
      },
      "outputs": [
        {
          "output_type": "execute_result",
          "data": {
            "text/plain": [
              "<matplotlib.image.AxesImage at 0x796a94ac10f0>"
            ]
          },
          "metadata": {},
          "execution_count": 57
        },
        {
          "output_type": "display_data",
          "data": {
            "text/plain": [
              "<Figure size 640x480 with 1 Axes>"
            ],
            "image/png": "[encoded data removed]"
          },
          "metadata": {}
        }
      ],
      "source": [
        "n = 3\n",
        "plt.imshow(imagenes[n].reshape(28, 28))"
      ]
    },
    {
      "cell_type": "code",
      "source": [
        "n = 4\n",
        "plt.imshow(imagenes[n].reshape(28, 28))"
      ],
      "metadata": {
        "colab": {
          "base_uri": "https://localhost:8080/",
          "height": 447
        },
        "id": "EOiUfEevsotd",
        "outputId": "6bf0d08c-5fbb-4ed3-f744-9c607032401a"
      },
      "execution_count": null,
      "outputs": [
        {
          "output_type": "execute_result",
          "data": {
            "text/plain": [
              "<matplotlib.image.AxesImage at 0x796a7eeecd60>"
            ]
          },
          "metadata": {},
          "execution_count": 65
        },
        {
          "output_type": "display_data",
          "data": {
            "text/plain": [
              "<Figure size 640x480 with 1 Axes>"
            ],
            "image/png": "[encoded data removed]"
          },
          "metadata": {}
        }
      ]
    },
    {
      "cell_type": "code",
      "source": [
        "n = 5\n",
        "plt.imshow(imagenes[n].reshape(28, 28))"
      ],
      "metadata": {
        "colab": {
          "base_uri": "https://localhost:8080/",
          "height": 447
        },
        "id": "zN6qFcNGspq9",
        "outputId": "00db2dfb-85fb-491d-e696-7974c59fe246"
      },
      "execution_count": null,
      "outputs": [
        {
          "output_type": "execute_result",
          "data": {
            "text/plain": [
              "<matplotlib.image.AxesImage at 0x796a7ed5da50>"
            ]
          },
          "metadata": {},
          "execution_count": 66
        },
        {
          "output_type": "display_data",
          "data": {
            "text/plain": [
              "<Figure size 640x480 with 1 Axes>"
            ],
            "image/png": "[encoded data removed]"
          },
          "metadata": {}
        }
      ]
    },
    {
      "cell_type": "code",
      "execution_count": null,
      "metadata": {
        "colab": {
          "base_uri": "https://localhost:8080/",
          "height": 447
        },
        "id": "hzFk5Ys0MQsV",
        "outputId": "83229bc6-3dcf-4c6e-f56f-dc20ac7ef49a"
      },
      "outputs": [
        {
          "output_type": "execute_result",
          "data": {
            "text/plain": [
              "<matplotlib.image.AxesImage at 0x796a8f308e50>"
            ]
          },
          "metadata": {},
          "execution_count": 56
        },
        {
          "output_type": "display_data",
          "data": {
            "text/plain": [
              "<Figure size 640x480 with 1 Axes>"
            ],
            "image/png": "[encoded data removed]"
          },
          "metadata": {}
        }
      ],
      "source": [
        "n = 6\n",
        "plt.imshow(imagenes[n].reshape(28, 28))"
      ]
    },
    {
      "cell_type": "code",
      "source": [
        "n = 7\n",
        "plt.imshow(imagenes[n].reshape(28, 28))"
      ],
      "metadata": {
        "colab": {
          "base_uri": "https://localhost:8080/",
          "height": 447
        },
        "id": "QoEOdiqNsuiS",
        "outputId": "0dd8e041-43ff-4830-de5a-a57cab263151"
      },
      "execution_count": null,
      "outputs": [
        {
          "output_type": "execute_result",
          "data": {
            "text/plain": [
              "<matplotlib.image.AxesImage at 0x796a7edc6890>"
            ]
          },
          "metadata": {},
          "execution_count": 67
        },
        {
          "output_type": "display_data",
          "data": {
            "text/plain": [
              "<Figure size 640x480 with 1 Axes>"
            ],
            "image/png": "[encoded data removed]"
          },
          "metadata": {}
        }
      ]
    },
    {
      "cell_type": "code",
      "source": [
        "n = 8\n",
        "plt.imshow(imagenes[n].reshape(28, 28))"
      ],
      "metadata": {
        "colab": {
          "base_uri": "https://localhost:8080/",
          "height": 447
        },
        "id": "K9xrrPqrsvnR",
        "outputId": "1ce87105-c69c-484e-9570-5eb1b06ddeeb"
      },
      "execution_count": null,
      "outputs": [
        {
          "output_type": "execute_result",
          "data": {
            "text/plain": [
              "<matplotlib.image.AxesImage at 0x796a7ec3b820>"
            ]
          },
          "metadata": {},
          "execution_count": 68
        },
        {
          "output_type": "display_data",
          "data": {
            "text/plain": [
              "<Figure size 640x480 with 1 Axes>"
            ],
            "image/png": "[encoded data removed]"
          },
          "metadata": {}
        }
      ]
    },
    {
      "cell_type": "code",
      "execution_count": null,
      "metadata": {
        "colab": {
          "base_uri": "https://localhost:8080/",
          "height": 447
        },
        "id": "1brlxcF5MQsV",
        "outputId": "7afda8fb-56d1-4489-f9c5-313939992283"
      },
      "outputs": [
        {
          "output_type": "execute_result",
          "data": {
            "text/plain": [
              "<matplotlib.image.AxesImage at 0x796a8c858670>"
            ]
          },
          "metadata": {},
          "execution_count": 55
        },
        {
          "output_type": "display_data",
          "data": {
            "text/plain": [
              "<Figure size 640x480 with 1 Axes>"
            ],
            "image/png": "[encoded data removed]"
          },
          "metadata": {}
        }
      ],
      "source": [
        "n = 9\n",
        "plt.imshow(imagenes[n].reshape(28, 28))"
      ]
    },
    {
      "cell_type": "markdown",
      "metadata": {
        "id": "GXu2ac-X4muQ"
      },
      "source": [
        "**Ahora las 10 imágenes tienen mejor apariencia y todas son diferentes.**\n",
        "\n",
        "**En este campo, este es el  estado-del-arte!  Para obtener resultados más realistas, se requieren GPUs de mucha potencia y \"jugar\" bastante con los hiper-parámetros!**"
      ]
    }
  ],
  "metadata": {
    "colab": {
      "provenance": []
    },
    "kernelspec": {
      "display_name": "Python 3 (ipykernel)",
      "language": "python",
      "name": "python3"
    },
    "language_info": {
      "codemirror_mode": {
        "name": "ipython",
        "version": 3
      },
      "file_extension": ".py",
      "mimetype": "text/x-python",
      "name": "python",
      "nbconvert_exporter": "python",
      "pygments_lexer": "ipython3",
      "version": "3.10.0"
    }
  },
  "nbformat": 4,
  "nbformat_minor": 0
}